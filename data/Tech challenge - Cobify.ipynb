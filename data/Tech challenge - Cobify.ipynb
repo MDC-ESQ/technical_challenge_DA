{
 "cells": [
  {
   "cell_type": "markdown",
   "id": "92a9b366",
   "metadata": {},
   "source": [
    "# Tech challenge"
   ]
  },
  {
   "cell_type": "markdown",
   "id": "94f7a337",
   "metadata": {},
   "source": [
    "##### Context\n",
    "\n",
    "Cobify is a company dedicated to people transport just like Uber, Lyft or even Cabify (who clearly stole our name).\n",
    "\n",
    "Cobify was founded in 1992 coinciding with the Olympic Games hosted in Barcelona. Our company has always been known by:\n",
    "\n",
    " - Not having permits to drive people (we do know how to drive)\n",
    " - Using tricked-out high-end car\n",
    "\n",
    "In our home town, Barcelona, VTC licenses have appeared and we have been able to start being a legal company, because we do have licenses now. However, we still keep using tricked-out high-end cars.\n",
    "\n",
    "We are an old school company and data analysis falls far beyond our reach, and as we do not want to be on the news we want to know how you can help our business.\n",
    "\n",
    "##### A bit of history of the gas problem ⛽️\n",
    "\n",
    "Tricked-out cars use gas with a high cetane index, like unleaded 98 petrol in order to avoid delay/advancing in combustible injection (avoiding connecting rod pitting ), but we have started to embrace petrols that add ethanol in their formula, as they are cheaper and they use the same cetane index as more expensive petrol. Without going into further detail (we could write an actual book about this) we think that going green and being modern can be very expensive, as we have seen that cars use more petrol than they used to for each trip.\n",
    "\n",
    "##### Your challenge starts here 📈\n",
    "\n",
    "Now it is your turn: can you help us find the best combustible?\n",
    "\n",
    "We have saved some consumption data in a .csv, but… it would be very nice if you could add some more data. You can find data in the repo :-)\n",
    "\n",
    "Show us your abilities and make yourself worth the amount of money you'd like to get paid. You have 3 hours to turn the challenge in starting right now! 💸\n",
    "\n"
   ]
  },
  {
   "cell_type": "markdown",
   "id": "c704268a",
   "metadata": {},
   "source": [
    "## Exploratory data analysis"
   ]
  },
  {
   "cell_type": "markdown",
   "id": "53159a8b",
   "metadata": {},
   "source": [
    "### Import libraries"
   ]
  },
  {
   "cell_type": "code",
   "execution_count": 67,
   "id": "81203d36",
   "metadata": {},
   "outputs": [
    {
     "name": "stderr",
     "output_type": "stream",
     "text": [
      "[nltk_data] Downloading package punkt to\n",
      "[nltk_data]     /Users/mariaesquivel/nltk_data...\n",
      "[nltk_data]   Package punkt is already up-to-date!\n",
      "[nltk_data] Downloading package wordnet to\n",
      "[nltk_data]     /Users/mariaesquivel/nltk_data...\n",
      "[nltk_data]   Package wordnet is already up-to-date!\n",
      "[nltk_data] Downloading package stopwords to\n",
      "[nltk_data]     /Users/mariaesquivel/nltk_data...\n",
      "[nltk_data]   Package stopwords is already up-to-date!\n"
     ]
    }
   ],
   "source": [
    "#Standard libraries for data analysis:\n",
    "    \n",
    "import numpy as np\n",
    "import matplotlib.pyplot as plt\n",
    "import pandas as pd\n",
    "from scipy.stats import norm, skew, shapiro\n",
    "from scipy import stats\n",
    "import statsmodels.api as sm\n",
    "import os\n",
    "\n",
    "\n",
    "# sklearn modules for data preprocessing:\n",
    "import sklearn\n",
    "from sklearn.preprocessing import LabelEncoder, OneHotEncoder, OrdinalEncoder\n",
    "from sklearn.compose import ColumnTransformer\n",
    "from sklearn.model_selection import train_test_split\n",
    "from sklearn.preprocessing import StandardScaler\n",
    "from sklearn.preprocessing import MinMaxScaler\n",
    "\n",
    "#sklearn modules for Model Selection:\n",
    "from sklearn import svm, tree, linear_model, neighbors\n",
    "from sklearn.neighbors import KNeighborsClassifier\n",
    "from sklearn.linear_model import LogisticRegression\n",
    "from sklearn.linear_model import LinearRegression\n",
    "from sklearn.neighbors import KNeighborsRegressor\n",
    "from sklearn.neighbors import KNeighborsClassifier\n",
    "from sklearn.ensemble import RandomForestRegressor\n",
    "from sklearn.ensemble import RandomForestClassifier\n",
    "from statsmodels.stats.outliers_influence import variance_inflation_factor\n",
    "from sklearn.neural_network import MLPRegressor\n",
    "from sklearn.datasets import make_regression\n",
    "from sklearn.metrics import mean_squared_error as mse\n",
    "from sklearn.metrics import mean_absolute_error as mae\n",
    "from sklearn.metrics import confusion_matrix\n",
    "from sklearn.utils import resample\n",
    "from sklearn.model_selection import cross_val_score\n",
    "from sklearn.metrics import precision_score\n",
    "from sklearn.metrics import recall_score\n",
    "from sklearn.metrics import f1_score\n",
    "from sklearn.feature_selection import VarianceThreshold\n",
    "from sklearn.feature_selection import SelectKBest\n",
    "from sklearn.feature_selection import chi2\n",
    "from sklearn.feature_selection import RFE\n",
    "from sklearn.feature_selection import RFECV\n",
    "from sklearn import cluster\n",
    "from sklearn.cluster import KMeans\n",
    "from sklearn.decomposition import PCA\n",
    "from sklearn.neighbors import NearestNeighbors\n",
    "\n",
    "\n",
    "#Standard libraries for data visualization:\n",
    "import seaborn as sns\n",
    "from scipy.stats import boxcox \n",
    "from matplotlib import pyplot\n",
    "import matplotlib.pyplot as plt\n",
    "import matplotlib.pylab as pylab\n",
    "import matplotlib \n",
    "%matplotlib inline\n",
    "color = sns.color_palette()\n",
    "import matplotlib.ticker as mtick\n",
    "from pandas.plotting import scatter_matrix\n",
    "from sklearn.metrics import roc_curve\n",
    "\n",
    "\n",
    "#Standard libraries for text analysis:\n",
    "import re #regex\n",
    "import string\n",
    "import nltk\n",
    "from nltk.stem import WordNetLemmatizer\n",
    "from nltk.tokenize import word_tokenize\n",
    "from nltk.tokenize import sent_tokenize\n",
    "from nltk.stem import SnowballStemmer\n",
    "from nltk.corpus import stopwords\n",
    "from sklearn.feature_extraction.text import CountVectorizer\n",
    "import ssl\n",
    "from ast import literal_eval\n",
    "from sklearn.feature_extraction.text import TfidfVectorizer\n",
    "from sklearn.metrics.pairwise import linear_kernel\n",
    "nltk.download('punkt')\n",
    "nltk.download('wordnet')\n",
    "from nltk.stem import PorterStemmer \n",
    "nltk.download('stopwords')\n",
    "from collections import Counter, OrderedDict\n",
    "from operator import itemgetter\n",
    "\n",
    "from gensim.models.phrases import Phrases, Phraser\n",
    "import gensim\n",
    "from gensim.models import Word2Vec\n",
    "\n",
    "#Standard libraries for web scraping / API\n",
    "from tqdm import tqdm # tqdm is for printing the status bar\n",
    "from bs4 import BeautifulSoup\n",
    "\n",
    "\n",
    "pd.set_option('display.max_columns', None)"
   ]
  },
  {
   "cell_type": "markdown",
   "id": "c18af439",
   "metadata": {},
   "source": [
    "### Get to know the domain"
   ]
  },
  {
   "cell_type": "code",
   "execution_count": 68,
   "id": "517ac5f0",
   "metadata": {},
   "outputs": [
    {
     "name": "stdout",
     "output_type": "stream",
     "text": [
      "(388, 12)\n"
     ]
    },
    {
     "data": {
      "text/html": [
       "<div>\n",
       "<style scoped>\n",
       "    .dataframe tbody tr th:only-of-type {\n",
       "        vertical-align: middle;\n",
       "    }\n",
       "\n",
       "    .dataframe tbody tr th {\n",
       "        vertical-align: top;\n",
       "    }\n",
       "\n",
       "    .dataframe thead th {\n",
       "        text-align: right;\n",
       "    }\n",
       "</style>\n",
       "<table border=\"1\" class=\"dataframe\">\n",
       "  <thead>\n",
       "    <tr style=\"text-align: right;\">\n",
       "      <th></th>\n",
       "      <th>distance</th>\n",
       "      <th>consume</th>\n",
       "      <th>speed</th>\n",
       "      <th>temp_inside</th>\n",
       "      <th>temp_outside</th>\n",
       "      <th>specials</th>\n",
       "      <th>gas_type</th>\n",
       "      <th>AC</th>\n",
       "      <th>rain</th>\n",
       "      <th>sun</th>\n",
       "      <th>refill liters</th>\n",
       "      <th>refill gas</th>\n",
       "    </tr>\n",
       "  </thead>\n",
       "  <tbody>\n",
       "    <tr>\n",
       "      <th>0</th>\n",
       "      <td>28</td>\n",
       "      <td>5</td>\n",
       "      <td>26</td>\n",
       "      <td>21,5</td>\n",
       "      <td>12</td>\n",
       "      <td>NaN</td>\n",
       "      <td>E10</td>\n",
       "      <td>0</td>\n",
       "      <td>0</td>\n",
       "      <td>0</td>\n",
       "      <td>45</td>\n",
       "      <td>E10</td>\n",
       "    </tr>\n",
       "    <tr>\n",
       "      <th>1</th>\n",
       "      <td>12</td>\n",
       "      <td>4,2</td>\n",
       "      <td>30</td>\n",
       "      <td>21,5</td>\n",
       "      <td>13</td>\n",
       "      <td>NaN</td>\n",
       "      <td>E10</td>\n",
       "      <td>0</td>\n",
       "      <td>0</td>\n",
       "      <td>0</td>\n",
       "      <td>NaN</td>\n",
       "      <td>NaN</td>\n",
       "    </tr>\n",
       "    <tr>\n",
       "      <th>2</th>\n",
       "      <td>11,2</td>\n",
       "      <td>5,5</td>\n",
       "      <td>38</td>\n",
       "      <td>21,5</td>\n",
       "      <td>15</td>\n",
       "      <td>NaN</td>\n",
       "      <td>E10</td>\n",
       "      <td>0</td>\n",
       "      <td>0</td>\n",
       "      <td>0</td>\n",
       "      <td>NaN</td>\n",
       "      <td>NaN</td>\n",
       "    </tr>\n",
       "    <tr>\n",
       "      <th>3</th>\n",
       "      <td>12,9</td>\n",
       "      <td>3,9</td>\n",
       "      <td>36</td>\n",
       "      <td>21,5</td>\n",
       "      <td>14</td>\n",
       "      <td>NaN</td>\n",
       "      <td>E10</td>\n",
       "      <td>0</td>\n",
       "      <td>0</td>\n",
       "      <td>0</td>\n",
       "      <td>NaN</td>\n",
       "      <td>NaN</td>\n",
       "    </tr>\n",
       "    <tr>\n",
       "      <th>4</th>\n",
       "      <td>18,5</td>\n",
       "      <td>4,5</td>\n",
       "      <td>46</td>\n",
       "      <td>21,5</td>\n",
       "      <td>15</td>\n",
       "      <td>NaN</td>\n",
       "      <td>E10</td>\n",
       "      <td>0</td>\n",
       "      <td>0</td>\n",
       "      <td>0</td>\n",
       "      <td>NaN</td>\n",
       "      <td>NaN</td>\n",
       "    </tr>\n",
       "    <tr>\n",
       "      <th>5</th>\n",
       "      <td>8,3</td>\n",
       "      <td>6,4</td>\n",
       "      <td>50</td>\n",
       "      <td>21,5</td>\n",
       "      <td>10</td>\n",
       "      <td>NaN</td>\n",
       "      <td>E10</td>\n",
       "      <td>0</td>\n",
       "      <td>0</td>\n",
       "      <td>0</td>\n",
       "      <td>NaN</td>\n",
       "      <td>NaN</td>\n",
       "    </tr>\n",
       "    <tr>\n",
       "      <th>6</th>\n",
       "      <td>7,8</td>\n",
       "      <td>4,4</td>\n",
       "      <td>43</td>\n",
       "      <td>21,5</td>\n",
       "      <td>11</td>\n",
       "      <td>NaN</td>\n",
       "      <td>E10</td>\n",
       "      <td>0</td>\n",
       "      <td>0</td>\n",
       "      <td>0</td>\n",
       "      <td>NaN</td>\n",
       "      <td>NaN</td>\n",
       "    </tr>\n",
       "    <tr>\n",
       "      <th>7</th>\n",
       "      <td>12,3</td>\n",
       "      <td>5</td>\n",
       "      <td>40</td>\n",
       "      <td>21,5</td>\n",
       "      <td>6</td>\n",
       "      <td>NaN</td>\n",
       "      <td>E10</td>\n",
       "      <td>0</td>\n",
       "      <td>0</td>\n",
       "      <td>0</td>\n",
       "      <td>NaN</td>\n",
       "      <td>NaN</td>\n",
       "    </tr>\n",
       "    <tr>\n",
       "      <th>8</th>\n",
       "      <td>4,9</td>\n",
       "      <td>6,4</td>\n",
       "      <td>26</td>\n",
       "      <td>21,5</td>\n",
       "      <td>4</td>\n",
       "      <td>NaN</td>\n",
       "      <td>E10</td>\n",
       "      <td>0</td>\n",
       "      <td>0</td>\n",
       "      <td>0</td>\n",
       "      <td>NaN</td>\n",
       "      <td>NaN</td>\n",
       "    </tr>\n",
       "    <tr>\n",
       "      <th>9</th>\n",
       "      <td>11,9</td>\n",
       "      <td>5,3</td>\n",
       "      <td>30</td>\n",
       "      <td>21,5</td>\n",
       "      <td>9</td>\n",
       "      <td>NaN</td>\n",
       "      <td>E10</td>\n",
       "      <td>0</td>\n",
       "      <td>0</td>\n",
       "      <td>0</td>\n",
       "      <td>NaN</td>\n",
       "      <td>NaN</td>\n",
       "    </tr>\n",
       "  </tbody>\n",
       "</table>\n",
       "</div>"
      ],
      "text/plain": [
       "  distance consume  speed temp_inside  temp_outside specials gas_type  AC  \\\n",
       "0       28       5     26        21,5            12      NaN      E10   0   \n",
       "1       12     4,2     30        21,5            13      NaN      E10   0   \n",
       "2     11,2     5,5     38        21,5            15      NaN      E10   0   \n",
       "3     12,9     3,9     36        21,5            14      NaN      E10   0   \n",
       "4     18,5     4,5     46        21,5            15      NaN      E10   0   \n",
       "5      8,3     6,4     50        21,5            10      NaN      E10   0   \n",
       "6      7,8     4,4     43        21,5            11      NaN      E10   0   \n",
       "7     12,3       5     40        21,5             6      NaN      E10   0   \n",
       "8      4,9     6,4     26        21,5             4      NaN      E10   0   \n",
       "9     11,9     5,3     30        21,5             9      NaN      E10   0   \n",
       "\n",
       "   rain  sun refill liters refill gas  \n",
       "0     0    0            45        E10  \n",
       "1     0    0           NaN        NaN  \n",
       "2     0    0           NaN        NaN  \n",
       "3     0    0           NaN        NaN  \n",
       "4     0    0           NaN        NaN  \n",
       "5     0    0           NaN        NaN  \n",
       "6     0    0           NaN        NaN  \n",
       "7     0    0           NaN        NaN  \n",
       "8     0    0           NaN        NaN  \n",
       "9     0    0           NaN        NaN  "
      ]
     },
     "execution_count": 68,
     "metadata": {},
     "output_type": "execute_result"
    }
   ],
   "source": [
    "measurements = pd.read_csv('measurements.csv')\n",
    "print(measurements.shape)\n",
    "measurements.head(10)"
   ]
  },
  {
   "cell_type": "markdown",
   "id": "b81452cb",
   "metadata": {},
   "source": [
    "### Explore your data"
   ]
  },
  {
   "cell_type": "code",
   "execution_count": 69,
   "id": "d176b5dc",
   "metadata": {},
   "outputs": [
    {
     "data": {
      "text/plain": [
       "distance         object\n",
       "consume          object\n",
       "speed             int64\n",
       "temp_inside      object\n",
       "temp_outside      int64\n",
       "specials         object\n",
       "gas_type         object\n",
       "AC                int64\n",
       "rain              int64\n",
       "sun               int64\n",
       "refill liters    object\n",
       "refill gas       object\n",
       "dtype: object"
      ]
     },
     "execution_count": 69,
     "metadata": {},
     "output_type": "execute_result"
    }
   ],
   "source": [
    "measurements.dtypes"
   ]
  },
  {
   "cell_type": "markdown",
   "id": "9657581e",
   "metadata": {},
   "source": [
    "1. distance - distance (km);\n",
    "2. consume - the consume (L/100km);\n",
    "3. speed - the average speed (km/h),\n",
    "4. temp_inside - the temperature inside (°C)\n",
    "5. temp_outside - the temperature outside (°C)\n",
    "6. specials - anything special that happened, if it was raining, if the air condition was on, if it was sunny enough that the car felt warm when i started it…\n",
    "7. gas_type - the gas type used.\n",
    "\n",
    "I have also two columns saying how much and which gas type I was buying. Careful with those. The numbers don't add exactly up, because I note only the rides that occur under certain conditions: If the car was not cooling down enough to have another independent measure from the one before, i don't note it."
   ]
  },
  {
   "cell_type": "code",
   "execution_count": 70,
   "id": "5c933088",
   "metadata": {},
   "outputs": [
    {
     "data": {
      "text/html": [
       "<div>\n",
       "<style scoped>\n",
       "    .dataframe tbody tr th:only-of-type {\n",
       "        vertical-align: middle;\n",
       "    }\n",
       "\n",
       "    .dataframe tbody tr th {\n",
       "        vertical-align: top;\n",
       "    }\n",
       "\n",
       "    .dataframe thead th {\n",
       "        text-align: right;\n",
       "    }\n",
       "</style>\n",
       "<table border=\"1\" class=\"dataframe\">\n",
       "  <thead>\n",
       "    <tr style=\"text-align: right;\">\n",
       "      <th></th>\n",
       "      <th>count</th>\n",
       "      <th>mean</th>\n",
       "      <th>std</th>\n",
       "      <th>min</th>\n",
       "      <th>25%</th>\n",
       "      <th>50%</th>\n",
       "      <th>75%</th>\n",
       "      <th>max</th>\n",
       "    </tr>\n",
       "  </thead>\n",
       "  <tbody>\n",
       "    <tr>\n",
       "      <th>speed</th>\n",
       "      <td>388.0</td>\n",
       "      <td>41.927835</td>\n",
       "      <td>13.598524</td>\n",
       "      <td>14.0</td>\n",
       "      <td>32.75</td>\n",
       "      <td>40.5</td>\n",
       "      <td>50.0</td>\n",
       "      <td>90.0</td>\n",
       "    </tr>\n",
       "    <tr>\n",
       "      <th>temp_outside</th>\n",
       "      <td>388.0</td>\n",
       "      <td>11.358247</td>\n",
       "      <td>6.991542</td>\n",
       "      <td>-5.0</td>\n",
       "      <td>7.00</td>\n",
       "      <td>10.0</td>\n",
       "      <td>16.0</td>\n",
       "      <td>31.0</td>\n",
       "    </tr>\n",
       "    <tr>\n",
       "      <th>AC</th>\n",
       "      <td>388.0</td>\n",
       "      <td>0.077320</td>\n",
       "      <td>0.267443</td>\n",
       "      <td>0.0</td>\n",
       "      <td>0.00</td>\n",
       "      <td>0.0</td>\n",
       "      <td>0.0</td>\n",
       "      <td>1.0</td>\n",
       "    </tr>\n",
       "    <tr>\n",
       "      <th>rain</th>\n",
       "      <td>388.0</td>\n",
       "      <td>0.123711</td>\n",
       "      <td>0.329677</td>\n",
       "      <td>0.0</td>\n",
       "      <td>0.00</td>\n",
       "      <td>0.0</td>\n",
       "      <td>0.0</td>\n",
       "      <td>1.0</td>\n",
       "    </tr>\n",
       "    <tr>\n",
       "      <th>sun</th>\n",
       "      <td>388.0</td>\n",
       "      <td>0.082474</td>\n",
       "      <td>0.275441</td>\n",
       "      <td>0.0</td>\n",
       "      <td>0.00</td>\n",
       "      <td>0.0</td>\n",
       "      <td>0.0</td>\n",
       "      <td>1.0</td>\n",
       "    </tr>\n",
       "  </tbody>\n",
       "</table>\n",
       "</div>"
      ],
      "text/plain": [
       "              count       mean        std   min    25%   50%   75%   max\n",
       "speed         388.0  41.927835  13.598524  14.0  32.75  40.5  50.0  90.0\n",
       "temp_outside  388.0  11.358247   6.991542  -5.0   7.00  10.0  16.0  31.0\n",
       "AC            388.0   0.077320   0.267443   0.0   0.00   0.0   0.0   1.0\n",
       "rain          388.0   0.123711   0.329677   0.0   0.00   0.0   0.0   1.0\n",
       "sun           388.0   0.082474   0.275441   0.0   0.00   0.0   0.0   1.0"
      ]
     },
     "execution_count": 70,
     "metadata": {},
     "output_type": "execute_result"
    }
   ],
   "source": [
    "measurements.describe().T"
   ]
  },
  {
   "cell_type": "code",
   "execution_count": 71,
   "id": "92b106f4",
   "metadata": {},
   "outputs": [
    {
     "data": {
      "text/html": [
       "<div>\n",
       "<style scoped>\n",
       "    .dataframe tbody tr th:only-of-type {\n",
       "        vertical-align: middle;\n",
       "    }\n",
       "\n",
       "    .dataframe tbody tr th {\n",
       "        vertical-align: top;\n",
       "    }\n",
       "\n",
       "    .dataframe thead th {\n",
       "        text-align: right;\n",
       "    }\n",
       "</style>\n",
       "<table border=\"1\" class=\"dataframe\">\n",
       "  <thead>\n",
       "    <tr style=\"text-align: right;\">\n",
       "      <th></th>\n",
       "      <th>column_name</th>\n",
       "      <th>nulls_percentage</th>\n",
       "    </tr>\n",
       "  </thead>\n",
       "  <tbody>\n",
       "    <tr>\n",
       "      <th>3</th>\n",
       "      <td>temp_inside</td>\n",
       "      <td>0.030928</td>\n",
       "    </tr>\n",
       "    <tr>\n",
       "      <th>5</th>\n",
       "      <td>specials</td>\n",
       "      <td>0.760309</td>\n",
       "    </tr>\n",
       "    <tr>\n",
       "      <th>10</th>\n",
       "      <td>refill liters</td>\n",
       "      <td>0.966495</td>\n",
       "    </tr>\n",
       "    <tr>\n",
       "      <th>11</th>\n",
       "      <td>refill gas</td>\n",
       "      <td>0.966495</td>\n",
       "    </tr>\n",
       "  </tbody>\n",
       "</table>\n",
       "</div>"
      ],
      "text/plain": [
       "      column_name  nulls_percentage\n",
       "3     temp_inside          0.030928\n",
       "5        specials          0.760309\n",
       "10  refill liters          0.966495\n",
       "11     refill gas          0.966495"
      ]
     },
     "execution_count": 71,
     "metadata": {},
     "output_type": "execute_result"
    }
   ],
   "source": [
    "# check NaN\n",
    "# create a dataframe to store percentage of nulls\n",
    "nulls_measurements = pd.DataFrame(measurements.isna().sum()/len(measurements)).reset_index()\n",
    "nulls_measurements.columns = ['column_name', 'nulls_percentage']\n",
    "nulls_measurements[nulls_measurements['nulls_percentage'] > 0]"
   ]
  },
  {
   "cell_type": "code",
   "execution_count": 72,
   "id": "0150a2bf",
   "metadata": {},
   "outputs": [
    {
     "name": "stdout",
     "output_type": "stream",
     "text": [
      "distance 174\n",
      "consume 43\n",
      "speed 60\n",
      "temp_inside 14\n",
      "temp_outside 33\n",
      "specials 13\n",
      "gas_type 2\n",
      "AC 2\n",
      "rain 2\n",
      "sun 2\n",
      "refill liters 11\n",
      "refill gas 3\n"
     ]
    }
   ],
   "source": [
    "#Unique values in each variable:\n",
    "\n",
    "for c in measurements.columns.tolist():  \n",
    "    print(c, len(measurements[c].unique()))"
   ]
  },
  {
   "cell_type": "code",
   "execution_count": 73,
   "id": "2cfd92a5",
   "metadata": {},
   "outputs": [
    {
     "name": "stdout",
     "output_type": "stream",
     "text": [
      "Categorical Features: 7\n",
      "----------\n",
      "Name: distance\n",
      "Type: object\n",
      "Unique values: 174\n",
      "['28' '12' '11,2' '12,9' '18,5' '8,3' '7,8' '12,3' '4,9' '11,9' '12,4'\n",
      " '11,8' '24,7' '17,3' '33,4' '25,9' '25,3' '14,2' '17,9' '18,4' '18,3'\n",
      " '32,6' '19' '12,1' '20' '4,5' '11,7' '10,2' '5,4' '2' '16' '27,3' '10,6'\n",
      " '11,6' '13,1' '6,1' '153,5' '2,9' '2,1' '9,8' '6,8' '14' '13,9' '9,7'\n",
      " '24,8' '34,8' '5,2' '10,5' '13,2' '13' '12,2' '12,5' '15,7' '6,4' '5,3'\n",
      " '26,2' '18,8' '22,9' '162,7' '16,6' '15,9' '5,1' '22,4' '31,1' '16,1'\n",
      " '4,2' '17,4' '23,5' '7' '20,1' '20,8' '1,7' '35,9' '36,9' '16,8' '9,9'\n",
      " '36,6' '44,9' '21,6' '39,4' '26,6' '53,2' '18,9' '43,5' '16,4' '21,1'\n",
      " '22,7' '44,4' '35,8' '40,6' '14,1' '58,7' '16,2' '31,8' '51,6' '38,6'\n",
      " '81,2' '130,3' '67,2' '43,7' '56,1' '39' '38,5' '28,2' '19,6' '22,2'\n",
      " '13,6' '12,6' '8,7' '7,9' '2,4' '18,1' '1,3' '13,4' '12,8' '29' '31,4'\n",
      " '27,1' '25,2' '14,3' '16,9' '9,2' '31,5' '24,9' '17' '7,4' '25,7' '24,5'\n",
      " '4,1' '15,4' '101,9' '93,9' '32,1' '48,6' '37,2' '28,8' '6,7' '6,6'\n",
      " '13,3' '12,7' '16,5' '20,6' '16,3' '18,7' '36,5' '29,9' '10,1' '31,9'\n",
      " '10,8' '19,8' '11,3' '11,5' '21,4' '32' '41,9' '211' '216,1' '25,5'\n",
      " '22,1' '39,5' '21,5' '4,8' '100,9' '129,7' '21' '17,2' '6' '20,9' '15,3'\n",
      " '28,5' '14,5' '16,7' '5,5' '14,7']\n",
      "11,8    9.536082\n",
      "16      6.185567\n",
      "12,3    5.927835\n",
      "12,4    4.639175\n",
      "15,4    3.608247\n",
      "          ...   \n",
      "44,9    0.257732\n",
      "36,6    0.257732\n",
      "9,9     0.257732\n",
      "16,8    0.257732\n",
      "14,7    0.257732\n",
      "Name: distance, Length: 174, dtype: float64\n",
      "\n",
      "----------\n",
      "Name: consume\n",
      "Type: object\n",
      "Unique values: 43\n",
      "['5' '4,2' '5,5' '3,9' '4,5' '6,4' '4,4' '5,3' '5,6' '4,6' '5,9' '5,1'\n",
      " '4,7' '4,9' '5,7' '4,1' '5,8' '4,8' '4,3' '5,2' '7,4' '6,5' '4' '3,3'\n",
      " '9,9' '6,1' '6,2' '7,9' '12,2' '5,4' '3,6' '6,9' '8,7' '6,3' '6' '10,8'\n",
      " '8,1' '7,1' '3,8' '9' '3,7' '11,5' '6,6']\n",
      "5       6.958763\n",
      "4,5     6.958763\n",
      "4,6     5.670103\n",
      "4,7     5.412371\n",
      "4,3     5.154639\n",
      "4,1     5.154639\n",
      "5,1     4.896907\n",
      "4,8     4.896907\n",
      "4,4     4.381443\n",
      "4       4.381443\n",
      "4,9     4.123711\n",
      "4,2     3.865979\n",
      "5,3     3.608247\n",
      "3,9     3.608247\n",
      "5,2     3.092784\n",
      "3,8     2.835052\n",
      "5,7     2.835052\n",
      "5,6     2.577320\n",
      "5,4     2.319588\n",
      "3,7     2.061856\n",
      "5,8     1.804124\n",
      "5,5     1.546392\n",
      "5,9     1.288660\n",
      "3,6     1.030928\n",
      "6,4     1.030928\n",
      "6,1     1.030928\n",
      "6,2     1.030928\n",
      "6       1.030928\n",
      "6,3     1.030928\n",
      "8,1     0.515464\n",
      "6,5     0.515464\n",
      "7,4     0.515464\n",
      "6,9     0.257732\n",
      "8,7     0.257732\n",
      "12,2    0.257732\n",
      "7,9     0.257732\n",
      "10,8    0.257732\n",
      "9,9     0.257732\n",
      "7,1     0.257732\n",
      "3,3     0.257732\n",
      "9       0.257732\n",
      "11,5    0.257732\n",
      "6,6     0.257732\n",
      "Name: consume, dtype: float64\n",
      "\n",
      "----------\n",
      "Name: temp_inside\n",
      "Type: object\n",
      "Unique values: 14\n",
      "['21,5' '22,5' '20' nan '21' '20,5' '23' '23,5' '25' '24' '22' '19' '24,5'\n",
      " '25,5']\n",
      "21,5    34.278351\n",
      "22      26.288660\n",
      "22,5    15.206186\n",
      "20       6.443299\n",
      "21       3.350515\n",
      "23       3.350515\n",
      "NaN      3.092784\n",
      "25       3.092784\n",
      "24,5     1.804124\n",
      "20,5     1.030928\n",
      "24       0.773196\n",
      "23,5     0.515464\n",
      "25,5     0.515464\n",
      "19       0.257732\n",
      "Name: temp_inside, dtype: float64\n",
      "\n",
      "----------\n",
      "Name: specials\n",
      "Type: object\n",
      "Unique values: 13\n",
      "[nan 'AC rain' 'AC' 'rain' 'snow' 'AC snow' 'half rain half sun' 'sun'\n",
      " 'AC sun' 'sun ac' 'ac' 'AC Sun' 'ac rain']\n",
      "NaN                   76.030928\n",
      "rain                   8.247423\n",
      "sun                    6.958763\n",
      "AC rain                2.319588\n",
      "ac                     2.061856\n",
      "AC                     1.546392\n",
      "snow                   0.773196\n",
      "sun ac                 0.773196\n",
      "AC snow                0.257732\n",
      "half rain half sun     0.257732\n",
      "AC sun                 0.257732\n",
      "AC Sun                 0.257732\n",
      "ac rain                0.257732\n",
      "Name: specials, dtype: float64\n",
      "\n",
      "----------\n",
      "Name: gas_type\n",
      "Type: object\n",
      "Unique values: 2\n",
      "['E10' 'SP98']\n",
      "SP98    58.762887\n",
      "E10     41.237113\n",
      "Name: gas_type, dtype: float64\n",
      "\n",
      "----------\n",
      "Name: refill liters\n",
      "Type: object\n",
      "Unique values: 11\n",
      "['45' nan '37,6' '37,7' '38' '38,3' '10' '39' '41' '37' '37,2']\n",
      "NaN     96.649485\n",
      "45       0.515464\n",
      "37,7     0.515464\n",
      "39       0.515464\n",
      "37,6     0.257732\n",
      "38       0.257732\n",
      "38,3     0.257732\n",
      "10       0.257732\n",
      "41       0.257732\n",
      "37       0.257732\n",
      "37,2     0.257732\n",
      "Name: refill liters, dtype: float64\n",
      "\n",
      "----------\n",
      "Name: refill gas\n",
      "Type: object\n",
      "Unique values: 3\n",
      "['E10' nan 'SP98']\n",
      "NaN     96.649485\n",
      "SP98     2.061856\n",
      "E10      1.288660\n",
      "Name: refill gas, dtype: float64\n",
      "\n",
      "----------\n"
     ]
    }
   ],
   "source": [
    "#Unique values in each variable:\n",
    "\n",
    "cat_cols=[col for col in measurements.columns if (measurements[col].dtype==object)]     # categorical columns\n",
    "\n",
    "print('Categorical Features:', len(cat_cols))\n",
    "print('----------')\n",
    "for c in cat_cols:\n",
    "    print('Name: {}'.format(measurements[c].name))    # column name\n",
    "    print('Type: {}'.format(measurements[c].dtype))   # column type\n",
    "    print('Unique values: {}'.format(len(measurements[c].unique())))   # column unique values\n",
    "    print(measurements[c].unique())\n",
    "    print(((measurements[c].value_counts(dropna = False)/ sum(measurements[c].value_counts(dropna = False)))*100))   # percentage\n",
    "    print('\\n----------')"
   ]
  },
  {
   "cell_type": "markdown",
   "id": "cf1d422d",
   "metadata": {},
   "source": [
    "As you can see above, the data set is slightly imbalanced with a higher proportion of cars using E10 compared to SP98. Since is the imbalance is not very strong we will not deal with that for now"
   ]
  },
  {
   "cell_type": "code",
   "execution_count": 75,
   "id": "5800731d",
   "metadata": {},
   "outputs": [
    {
     "data": {
      "text/html": [
       "<div>\n",
       "<style scoped>\n",
       "    .dataframe tbody tr th:only-of-type {\n",
       "        vertical-align: middle;\n",
       "    }\n",
       "\n",
       "    .dataframe tbody tr th {\n",
       "        vertical-align: top;\n",
       "    }\n",
       "\n",
       "    .dataframe thead th {\n",
       "        text-align: right;\n",
       "    }\n",
       "</style>\n",
       "<table border=\"1\" class=\"dataframe\">\n",
       "  <thead>\n",
       "    <tr style=\"text-align: right;\">\n",
       "      <th></th>\n",
       "      <th>distance</th>\n",
       "      <th>consume</th>\n",
       "      <th>speed</th>\n",
       "      <th>temp_inside</th>\n",
       "      <th>temp_outside</th>\n",
       "      <th>specials</th>\n",
       "      <th>gas_type</th>\n",
       "      <th>AC</th>\n",
       "      <th>rain</th>\n",
       "      <th>sun</th>\n",
       "      <th>refill liters</th>\n",
       "      <th>refill gas</th>\n",
       "    </tr>\n",
       "  </thead>\n",
       "  <tbody>\n",
       "    <tr>\n",
       "      <th>40</th>\n",
       "      <td>12,4</td>\n",
       "      <td>4</td>\n",
       "      <td>55</td>\n",
       "      <td>21,5</td>\n",
       "      <td>7</td>\n",
       "      <td>AC rain</td>\n",
       "      <td>E10</td>\n",
       "      <td>1</td>\n",
       "      <td>1</td>\n",
       "      <td>0</td>\n",
       "      <td>NaN</td>\n",
       "      <td>NaN</td>\n",
       "    </tr>\n",
       "    <tr>\n",
       "      <th>60</th>\n",
       "      <td>2,9</td>\n",
       "      <td>7,9</td>\n",
       "      <td>18</td>\n",
       "      <td>21,5</td>\n",
       "      <td>9</td>\n",
       "      <td>AC rain</td>\n",
       "      <td>SP98</td>\n",
       "      <td>1</td>\n",
       "      <td>1</td>\n",
       "      <td>0</td>\n",
       "      <td>NaN</td>\n",
       "      <td>NaN</td>\n",
       "    </tr>\n",
       "    <tr>\n",
       "      <th>94</th>\n",
       "      <td>11,8</td>\n",
       "      <td>5,9</td>\n",
       "      <td>21</td>\n",
       "      <td>20</td>\n",
       "      <td>9</td>\n",
       "      <td>AC rain</td>\n",
       "      <td>SP98</td>\n",
       "      <td>1</td>\n",
       "      <td>1</td>\n",
       "      <td>0</td>\n",
       "      <td>NaN</td>\n",
       "      <td>NaN</td>\n",
       "    </tr>\n",
       "    <tr>\n",
       "      <th>101</th>\n",
       "      <td>26,2</td>\n",
       "      <td>5,8</td>\n",
       "      <td>71</td>\n",
       "      <td>21</td>\n",
       "      <td>8</td>\n",
       "      <td>AC rain</td>\n",
       "      <td>SP98</td>\n",
       "      <td>1</td>\n",
       "      <td>1</td>\n",
       "      <td>0</td>\n",
       "      <td>NaN</td>\n",
       "      <td>NaN</td>\n",
       "    </tr>\n",
       "    <tr>\n",
       "      <th>104</th>\n",
       "      <td>12,4</td>\n",
       "      <td>5,4</td>\n",
       "      <td>18</td>\n",
       "      <td>21</td>\n",
       "      <td>11</td>\n",
       "      <td>AC rain</td>\n",
       "      <td>SP98</td>\n",
       "      <td>1</td>\n",
       "      <td>1</td>\n",
       "      <td>0</td>\n",
       "      <td>NaN</td>\n",
       "      <td>NaN</td>\n",
       "    </tr>\n",
       "    <tr>\n",
       "      <th>153</th>\n",
       "      <td>17,3</td>\n",
       "      <td>5</td>\n",
       "      <td>61</td>\n",
       "      <td>21,5</td>\n",
       "      <td>6</td>\n",
       "      <td>AC rain</td>\n",
       "      <td>E10</td>\n",
       "      <td>1</td>\n",
       "      <td>1</td>\n",
       "      <td>0</td>\n",
       "      <td>NaN</td>\n",
       "      <td>NaN</td>\n",
       "    </tr>\n",
       "    <tr>\n",
       "      <th>204</th>\n",
       "      <td>8,7</td>\n",
       "      <td>5,3</td>\n",
       "      <td>28</td>\n",
       "      <td>22,5</td>\n",
       "      <td>12</td>\n",
       "      <td>AC rain</td>\n",
       "      <td>SP98</td>\n",
       "      <td>1</td>\n",
       "      <td>1</td>\n",
       "      <td>0</td>\n",
       "      <td>NaN</td>\n",
       "      <td>NaN</td>\n",
       "    </tr>\n",
       "    <tr>\n",
       "      <th>228</th>\n",
       "      <td>13</td>\n",
       "      <td>5,7</td>\n",
       "      <td>38</td>\n",
       "      <td>22,5</td>\n",
       "      <td>3</td>\n",
       "      <td>AC rain</td>\n",
       "      <td>SP98</td>\n",
       "      <td>1</td>\n",
       "      <td>1</td>\n",
       "      <td>0</td>\n",
       "      <td>NaN</td>\n",
       "      <td>NaN</td>\n",
       "    </tr>\n",
       "    <tr>\n",
       "      <th>277</th>\n",
       "      <td>16</td>\n",
       "      <td>4,4</td>\n",
       "      <td>40</td>\n",
       "      <td>22</td>\n",
       "      <td>7</td>\n",
       "      <td>AC rain</td>\n",
       "      <td>SP98</td>\n",
       "      <td>1</td>\n",
       "      <td>1</td>\n",
       "      <td>0</td>\n",
       "      <td>NaN</td>\n",
       "      <td>NaN</td>\n",
       "    </tr>\n",
       "  </tbody>\n",
       "</table>\n",
       "</div>"
      ],
      "text/plain": [
       "    distance consume  speed temp_inside  temp_outside specials gas_type  AC  \\\n",
       "40      12,4       4     55        21,5             7  AC rain      E10   1   \n",
       "60       2,9     7,9     18        21,5             9  AC rain     SP98   1   \n",
       "94      11,8     5,9     21          20             9  AC rain     SP98   1   \n",
       "101     26,2     5,8     71          21             8  AC rain     SP98   1   \n",
       "104     12,4     5,4     18          21            11  AC rain     SP98   1   \n",
       "153     17,3       5     61        21,5             6  AC rain      E10   1   \n",
       "204      8,7     5,3     28        22,5            12  AC rain     SP98   1   \n",
       "228       13     5,7     38        22,5             3  AC rain     SP98   1   \n",
       "277       16     4,4     40          22             7  AC rain     SP98   1   \n",
       "\n",
       "     rain  sun refill liters refill gas  \n",
       "40      1    0           NaN        NaN  \n",
       "60      1    0           NaN        NaN  \n",
       "94      1    0           NaN        NaN  \n",
       "101     1    0           NaN        NaN  \n",
       "104     1    0           NaN        NaN  \n",
       "153     1    0           NaN        NaN  \n",
       "204     1    0           NaN        NaN  \n",
       "228     1    0           NaN        NaN  \n",
       "277     1    0           NaN        NaN  "
      ]
     },
     "execution_count": 75,
     "metadata": {},
     "output_type": "execute_result"
    }
   ],
   "source": [
    "measurements[measurements['specials'] == 'AC rain']"
   ]
  },
  {
   "cell_type": "markdown",
   "id": "e11fabd4",
   "metadata": {},
   "source": [
    "### Clean your data"
   ]
  },
  {
   "cell_type": "code",
   "execution_count": 98,
   "id": "38b7edf7",
   "metadata": {},
   "outputs": [],
   "source": [
    "def clean_up(df):\n",
    "    \n",
    "    # drop duplicates\n",
    "    df = df.drop_duplicates()\n",
    "    \n",
    "    # drop columns where %nulls is greater than 0.9\n",
    "    nulls_measurements = pd.DataFrame(measurements.isna().sum()/len(measurements)).reset_index()\n",
    "    nulls_measurements.columns = ['column_name', 'nulls_percentage']\n",
    "    columns_NaN = nulls_measurements[nulls_measurements['nulls_percentage'] > 0.9]\n",
    "    drop_columns_list = list(columns_NaN['column_name'])\n",
    "    df = df.drop(drop_columns_list, axis = 1)\n",
    "    \n",
    "    # Since there are only 12 rows where temp_inside is NaN, we will drop them \n",
    "    df = df[df['temp_inside'].notna()]\n",
    "    \n",
    "    # drop 'specials' column. Columns 'AC', 'rain' and 'sun' show the same infomations \n",
    "    df = df.drop(['specials'], axis = 1)\n",
    "    \n",
    "    \n",
    "    # change data types to numeric\n",
    "    df['distance'] = [float(str(i).replace(',', '.')) for i in df['distance']]\n",
    "    df['temp_inside'] = [float(str(i).replace(',', '.')) for i in df['temp_inside']]\n",
    "    df['consume'] = [float(str(i).replace(',', '.')) for i in df['consume']]\n",
    "    \n",
    "    # change data types to categorical\n",
    "    df['AC'] = df['AC'].astype(object)\n",
    "    df['rain'] = df['rain'].astype(object)\n",
    "    df['sun'] = df['sun'].astype(object)\n",
    "    \n",
    "    \n",
    "    return df"
   ]
  },
  {
   "cell_type": "code",
   "execution_count": 99,
   "id": "43be3793",
   "metadata": {},
   "outputs": [],
   "source": [
    "measurements_cleaned = clean_up(measurements)"
   ]
  },
  {
   "cell_type": "code",
   "execution_count": 100,
   "id": "6600b3dd",
   "metadata": {},
   "outputs": [
    {
     "name": "stdout",
     "output_type": "stream",
     "text": [
      "(376, 9)\n"
     ]
    },
    {
     "data": {
      "text/html": [
       "<div>\n",
       "<style scoped>\n",
       "    .dataframe tbody tr th:only-of-type {\n",
       "        vertical-align: middle;\n",
       "    }\n",
       "\n",
       "    .dataframe tbody tr th {\n",
       "        vertical-align: top;\n",
       "    }\n",
       "\n",
       "    .dataframe thead th {\n",
       "        text-align: right;\n",
       "    }\n",
       "</style>\n",
       "<table border=\"1\" class=\"dataframe\">\n",
       "  <thead>\n",
       "    <tr style=\"text-align: right;\">\n",
       "      <th></th>\n",
       "      <th>distance</th>\n",
       "      <th>consume</th>\n",
       "      <th>speed</th>\n",
       "      <th>temp_inside</th>\n",
       "      <th>temp_outside</th>\n",
       "      <th>gas_type</th>\n",
       "      <th>AC</th>\n",
       "      <th>rain</th>\n",
       "      <th>sun</th>\n",
       "    </tr>\n",
       "  </thead>\n",
       "  <tbody>\n",
       "    <tr>\n",
       "      <th>0</th>\n",
       "      <td>28.0</td>\n",
       "      <td>5.0</td>\n",
       "      <td>26</td>\n",
       "      <td>21.5</td>\n",
       "      <td>12</td>\n",
       "      <td>E10</td>\n",
       "      <td>0</td>\n",
       "      <td>0</td>\n",
       "      <td>0</td>\n",
       "    </tr>\n",
       "    <tr>\n",
       "      <th>1</th>\n",
       "      <td>12.0</td>\n",
       "      <td>4.2</td>\n",
       "      <td>30</td>\n",
       "      <td>21.5</td>\n",
       "      <td>13</td>\n",
       "      <td>E10</td>\n",
       "      <td>0</td>\n",
       "      <td>0</td>\n",
       "      <td>0</td>\n",
       "    </tr>\n",
       "    <tr>\n",
       "      <th>2</th>\n",
       "      <td>11.2</td>\n",
       "      <td>5.5</td>\n",
       "      <td>38</td>\n",
       "      <td>21.5</td>\n",
       "      <td>15</td>\n",
       "      <td>E10</td>\n",
       "      <td>0</td>\n",
       "      <td>0</td>\n",
       "      <td>0</td>\n",
       "    </tr>\n",
       "    <tr>\n",
       "      <th>3</th>\n",
       "      <td>12.9</td>\n",
       "      <td>3.9</td>\n",
       "      <td>36</td>\n",
       "      <td>21.5</td>\n",
       "      <td>14</td>\n",
       "      <td>E10</td>\n",
       "      <td>0</td>\n",
       "      <td>0</td>\n",
       "      <td>0</td>\n",
       "    </tr>\n",
       "    <tr>\n",
       "      <th>4</th>\n",
       "      <td>18.5</td>\n",
       "      <td>4.5</td>\n",
       "      <td>46</td>\n",
       "      <td>21.5</td>\n",
       "      <td>15</td>\n",
       "      <td>E10</td>\n",
       "      <td>0</td>\n",
       "      <td>0</td>\n",
       "      <td>0</td>\n",
       "    </tr>\n",
       "    <tr>\n",
       "      <th>5</th>\n",
       "      <td>8.3</td>\n",
       "      <td>6.4</td>\n",
       "      <td>50</td>\n",
       "      <td>21.5</td>\n",
       "      <td>10</td>\n",
       "      <td>E10</td>\n",
       "      <td>0</td>\n",
       "      <td>0</td>\n",
       "      <td>0</td>\n",
       "    </tr>\n",
       "    <tr>\n",
       "      <th>6</th>\n",
       "      <td>7.8</td>\n",
       "      <td>4.4</td>\n",
       "      <td>43</td>\n",
       "      <td>21.5</td>\n",
       "      <td>11</td>\n",
       "      <td>E10</td>\n",
       "      <td>0</td>\n",
       "      <td>0</td>\n",
       "      <td>0</td>\n",
       "    </tr>\n",
       "    <tr>\n",
       "      <th>7</th>\n",
       "      <td>12.3</td>\n",
       "      <td>5.0</td>\n",
       "      <td>40</td>\n",
       "      <td>21.5</td>\n",
       "      <td>6</td>\n",
       "      <td>E10</td>\n",
       "      <td>0</td>\n",
       "      <td>0</td>\n",
       "      <td>0</td>\n",
       "    </tr>\n",
       "    <tr>\n",
       "      <th>8</th>\n",
       "      <td>4.9</td>\n",
       "      <td>6.4</td>\n",
       "      <td>26</td>\n",
       "      <td>21.5</td>\n",
       "      <td>4</td>\n",
       "      <td>E10</td>\n",
       "      <td>0</td>\n",
       "      <td>0</td>\n",
       "      <td>0</td>\n",
       "    </tr>\n",
       "    <tr>\n",
       "      <th>9</th>\n",
       "      <td>11.9</td>\n",
       "      <td>5.3</td>\n",
       "      <td>30</td>\n",
       "      <td>21.5</td>\n",
       "      <td>9</td>\n",
       "      <td>E10</td>\n",
       "      <td>0</td>\n",
       "      <td>0</td>\n",
       "      <td>0</td>\n",
       "    </tr>\n",
       "  </tbody>\n",
       "</table>\n",
       "</div>"
      ],
      "text/plain": [
       "   distance  consume  speed  temp_inside  temp_outside gas_type AC rain sun\n",
       "0      28.0      5.0     26         21.5            12      E10  0    0   0\n",
       "1      12.0      4.2     30         21.5            13      E10  0    0   0\n",
       "2      11.2      5.5     38         21.5            15      E10  0    0   0\n",
       "3      12.9      3.9     36         21.5            14      E10  0    0   0\n",
       "4      18.5      4.5     46         21.5            15      E10  0    0   0\n",
       "5       8.3      6.4     50         21.5            10      E10  0    0   0\n",
       "6       7.8      4.4     43         21.5            11      E10  0    0   0\n",
       "7      12.3      5.0     40         21.5             6      E10  0    0   0\n",
       "8       4.9      6.4     26         21.5             4      E10  0    0   0\n",
       "9      11.9      5.3     30         21.5             9      E10  0    0   0"
      ]
     },
     "execution_count": 100,
     "metadata": {},
     "output_type": "execute_result"
    }
   ],
   "source": [
    "print(measurements_cleaned.shape)\n",
    "measurements_cleaned.head(10)"
   ]
  },
  {
   "cell_type": "code",
   "execution_count": 101,
   "id": "328bc1a3",
   "metadata": {},
   "outputs": [
    {
     "data": {
      "text/plain": [
       "distance        float64\n",
       "consume         float64\n",
       "speed             int64\n",
       "temp_inside     float64\n",
       "temp_outside      int64\n",
       "gas_type         object\n",
       "AC               object\n",
       "rain             object\n",
       "sun              object\n",
       "dtype: object"
      ]
     },
     "execution_count": 101,
     "metadata": {},
     "output_type": "execute_result"
    }
   ],
   "source": [
    "# Revalidate data types\n",
    "measurements_cleaned.dtypes"
   ]
  },
  {
   "cell_type": "code",
   "execution_count": 102,
   "id": "b4140049",
   "metadata": {},
   "outputs": [
    {
     "data": {
      "text/plain": [
       "distance        0\n",
       "consume         0\n",
       "speed           0\n",
       "temp_inside     0\n",
       "temp_outside    0\n",
       "gas_type        0\n",
       "AC              0\n",
       "rain            0\n",
       "sun             0\n",
       "dtype: int64"
      ]
     },
     "execution_count": 102,
     "metadata": {},
     "output_type": "execute_result"
    }
   ],
   "source": [
    "# Revalidate NANs\n",
    "measurements_cleaned.isna().sum()   "
   ]
  },
  {
   "cell_type": "markdown",
   "id": "b8270464",
   "metadata": {},
   "source": [
    "### Visualization"
   ]
  },
  {
   "cell_type": "markdown",
   "id": "a961a022",
   "metadata": {},
   "source": [
    "#### Take a look and find connections between data"
   ]
  },
  {
   "cell_type": "markdown",
   "id": "61564183",
   "metadata": {},
   "source": [
    "##### Bar plot for each numerical variable."
   ]
  },
  {
   "cell_type": "code",
   "execution_count": 103,
   "id": "102641f0",
   "metadata": {},
   "outputs": [
    {
     "data": {
      "image/png": "[encoded data removed]",
      "text/plain": [
       "<Figure size 600x400 with 1 Axes>"
      ]
     },
     "metadata": {},
     "output_type": "display_data"
    },
    {
     "data": {
      "image/png": "[encoded data removed]",
      "text/plain": [
       "<Figure size 600x400 with 1 Axes>"
      ]
     },
     "metadata": {},
     "output_type": "display_data"
    },
    {
     "data": {
      "image/png": "[encoded data removed]",
      "text/plain": [
       "<Figure size 600x400 with 1 Axes>"
      ]
     },
     "metadata": {},
     "output_type": "display_data"
    },
    {
     "data": {
      "image/png": "[encoded data removed]",
      "text/plain": [
       "<Figure size 600x400 with 1 Axes>"
      ]
     },
     "metadata": {},
     "output_type": "display_data"
    },
    {
     "data": {
      "image/png": "[encoded data removed]",
      "text/plain": [
       "<Figure size 600x400 with 1 Axes>"
      ]
     },
     "metadata": {},
     "output_type": "display_data"
    }
   ],
   "source": [
    "num_cols = measurements_cleaned.select_dtypes(include=np.number)\n",
    "\n",
    "for c in num_cols:\n",
    "    plt.figure(figsize=(6,4))\n",
    "    plt.hist(measurements_cleaned[c])\n",
    "    plt.title(c)\n",
    "    plt.show();"
   ]
  },
  {
   "cell_type": "markdown",
   "id": "e3531c70",
   "metadata": {},
   "source": [
    "##### Box plot for each numerical variable for know outliers of each feature."
   ]
  },
  {
   "cell_type": "code",
   "execution_count": 105,
   "id": "c96fc238",
   "metadata": {},
   "outputs": [
    {
     "data": {
      "image/png": "[encoded data removed]",
      "text/plain": [
       "<Figure size 600x400 with 1 Axes>"
      ]
     },
     "metadata": {},
     "output_type": "display_data"
    },
    {
     "data": {
      "image/png": "[encoded data removed]",
      "text/plain": [
       "<Figure size 600x400 with 1 Axes>"
      ]
     },
     "metadata": {},
     "output_type": "display_data"
    },
    {
     "data": {
      "image/png": "[encoded data removed]",
      "text/plain": [
       "<Figure size 600x400 with 1 Axes>"
      ]
     },
     "metadata": {},
     "output_type": "display_data"
    },
    {
     "data": {
      "image/png": "[encoded data removed]",
      "text/plain": [
       "<Figure size 600x400 with 1 Axes>"
      ]
     },
     "metadata": {},
     "output_type": "display_data"
    },
    {
     "data": {
      "image/png": "[encoded data removed]",
      "text/plain": [
       "<Figure size 600x400 with 1 Axes>"
      ]
     },
     "metadata": {},
     "output_type": "display_data"
    }
   ],
   "source": [
    "for c in num_cols:\n",
    "    plt.figure(figsize=(6,4))\n",
    "    plt.boxplot(measurements_cleaned[c])\n",
    "    plt.title(c)\n",
    "    plt.show();"
   ]
  },
  {
   "cell_type": "markdown",
   "id": "bc6a32df",
   "metadata": {},
   "source": [
    "##### Show a plot of the distances by gas_type."
   ]
  },
  {
   "cell_type": "code",
   "execution_count": 141,
   "id": "64ee9181",
   "metadata": {},
   "outputs": [
    {
     "data": {
      "text/plain": [
       "SP98    219\n",
       "E10     157\n",
       "Name: gas_type, dtype: int64"
      ]
     },
     "execution_count": 141,
     "metadata": {},
     "output_type": "execute_result"
    }
   ],
   "source": [
    "measurements_cleaned['gas_type'].value_counts()"
   ]
  },
  {
   "cell_type": "code",
   "execution_count": 114,
   "id": "1fdcfa2b",
   "metadata": {},
   "outputs": [
    {
     "name": "stdout",
     "output_type": "stream",
     "text": [
      "gas_type\n",
      "E10     21.095541\n",
      "SP98    18.866667\n",
      "Name: distance, dtype: float64\n"
     ]
    },
    {
     "data": {
      "image/png": "[encoded data removed]",
      "text/plain": [
       "<Figure size 600x300 with 1 Axes>"
      ]
     },
     "metadata": {},
     "output_type": "display_data"
    }
   ],
   "source": [
    "print(measurements_cleaned.groupby('gas_type')['distance'].mean())\n",
    "\n",
    "plt.figure(figsize=(6,3))\n",
    "measurements_cleaned.groupby('gas_type')['distance'].mean().plot.bar()\n",
    "plt.ylabel('Distance by gas type')\n",
    "plt.show()\n"
   ]
  },
  {
   "cell_type": "code",
   "execution_count": 115,
   "id": "fef7aed4",
   "metadata": {},
   "outputs": [
    {
     "data": {
      "text/plain": [
       "19.797340425531914"
      ]
     },
     "execution_count": 115,
     "metadata": {},
     "output_type": "execute_result"
    }
   ],
   "source": [
    "measurements_cleaned['distance'].mean()"
   ]
  },
  {
   "cell_type": "markdown",
   "id": "9a440ae3",
   "metadata": {},
   "source": [
    "The total average distance traveled is 19.8 km. The average distance traveled when using E10 (21.1 km) is higher than when using SP98 (18.9 km)."
   ]
  },
  {
   "cell_type": "markdown",
   "id": "37dd2706",
   "metadata": {},
   "source": [
    "##### Show a plot of the consumption by gas_type."
   ]
  },
  {
   "cell_type": "code",
   "execution_count": 116,
   "id": "6a11e2f1",
   "metadata": {},
   "outputs": [
    {
     "name": "stdout",
     "output_type": "stream",
     "text": [
      "gas_type\n",
      "E10     4.950955\n",
      "SP98    4.906849\n",
      "Name: consume, dtype: float64\n"
     ]
    },
    {
     "data": {
      "image/png": "[encoded data removed]",
      "text/plain": [
       "<Figure size 600x300 with 1 Axes>"
      ]
     },
     "metadata": {},
     "output_type": "display_data"
    }
   ],
   "source": [
    "print(measurements_cleaned.groupby('gas_type')['consume'].mean())\n",
    "\n",
    "plt.figure(figsize=(6,3))\n",
    "measurements_cleaned.groupby('gas_type')['consume'].mean().plot.bar()\n",
    "plt.ylabel('Consumption by gas type')\n",
    "plt.show()"
   ]
  },
  {
   "cell_type": "code",
   "execution_count": 117,
   "id": "da9772d1",
   "metadata": {},
   "outputs": [
    {
     "data": {
      "text/plain": [
       "4.925265957446804"
      ]
     },
     "execution_count": 117,
     "metadata": {},
     "output_type": "execute_result"
    }
   ],
   "source": [
    "measurements_cleaned['consume'].mean()"
   ]
  },
  {
   "cell_type": "markdown",
   "id": "6b936fd9",
   "metadata": {},
   "source": [
    "The overall mean gas cunsumption is 4.925 L/100km.\n",
    "\n",
    "The average gas consumption does not differ much between E10 (4.95 L/100km) and SP98 (4.90 L/100km)."
   ]
  },
  {
   "cell_type": "markdown",
   "id": "10ff2d34",
   "metadata": {},
   "source": [
    "##### Show a plot of the consumption by gas_type when AC is on."
   ]
  },
  {
   "cell_type": "code",
   "execution_count": 142,
   "id": "d7b12b78",
   "metadata": {},
   "outputs": [
    {
     "data": {
      "text/plain": [
       "0    346\n",
       "1     30\n",
       "Name: AC, dtype: int64"
      ]
     },
     "execution_count": 142,
     "metadata": {},
     "output_type": "execute_result"
    }
   ],
   "source": [
    "measurements_cleaned['AC'].value_counts()"
   ]
  },
  {
   "cell_type": "code",
   "execution_count": 122,
   "id": "0d2fb611",
   "metadata": {},
   "outputs": [
    {
     "data": {
      "text/html": [
       "<div>\n",
       "<style scoped>\n",
       "    .dataframe tbody tr th:only-of-type {\n",
       "        vertical-align: middle;\n",
       "    }\n",
       "\n",
       "    .dataframe tbody tr th {\n",
       "        vertical-align: top;\n",
       "    }\n",
       "\n",
       "    .dataframe thead th {\n",
       "        text-align: right;\n",
       "    }\n",
       "</style>\n",
       "<table border=\"1\" class=\"dataframe\">\n",
       "  <thead>\n",
       "    <tr style=\"text-align: right;\">\n",
       "      <th></th>\n",
       "      <th>gas_type</th>\n",
       "      <th>AC</th>\n",
       "      <th>consume</th>\n",
       "    </tr>\n",
       "  </thead>\n",
       "  <tbody>\n",
       "    <tr>\n",
       "      <th>0</th>\n",
       "      <td>E10</td>\n",
       "      <td>0</td>\n",
       "      <td>4.943333</td>\n",
       "    </tr>\n",
       "    <tr>\n",
       "      <th>1</th>\n",
       "      <td>E10</td>\n",
       "      <td>1</td>\n",
       "      <td>5.114286</td>\n",
       "    </tr>\n",
       "    <tr>\n",
       "      <th>2</th>\n",
       "      <td>SP98</td>\n",
       "      <td>0</td>\n",
       "      <td>4.860714</td>\n",
       "    </tr>\n",
       "    <tr>\n",
       "      <th>3</th>\n",
       "      <td>SP98</td>\n",
       "      <td>1</td>\n",
       "      <td>5.300000</td>\n",
       "    </tr>\n",
       "  </tbody>\n",
       "</table>\n",
       "</div>"
      ],
      "text/plain": [
       "  gas_type  AC   consume\n",
       "0      E10   0  4.943333\n",
       "1      E10   1  5.114286\n",
       "2     SP98   0  4.860714\n",
       "3     SP98   1  5.300000"
      ]
     },
     "execution_count": 122,
     "metadata": {},
     "output_type": "execute_result"
    }
   ],
   "source": [
    "AC_data = measurements_cleaned.groupby(['gas_type','AC']).agg({'consume':'mean'}).reset_index()\n",
    "AC_data.head()"
   ]
  },
  {
   "cell_type": "markdown",
   "id": "4ebf00d1",
   "metadata": {},
   "source": [
    "However, consumption changes when AC is on, as demonstrated above.\n",
    "\n",
    "For both types, gas consumption goes up when the AC is on: for E10 to 5.11 L/100km and for SP98 tp 5.3 L/100km.\n",
    "\n",
    "The average gas consumption does not change much for E10 (4.94 L/100km) when the AC is off but it goes down for SP98 4.86 L/100km."
   ]
  },
  {
   "cell_type": "markdown",
   "id": "d01c11cd",
   "metadata": {},
   "source": [
    "##### Show a plot of the consumption by gas_type when when it is raining."
   ]
  },
  {
   "cell_type": "code",
   "execution_count": 143,
   "id": "e0bd9168",
   "metadata": {},
   "outputs": [
    {
     "data": {
      "text/plain": [
       "0    329\n",
       "1     47\n",
       "Name: rain, dtype: int64"
      ]
     },
     "execution_count": 143,
     "metadata": {},
     "output_type": "execute_result"
    }
   ],
   "source": [
    "measurements_cleaned['rain'].value_counts()"
   ]
  },
  {
   "cell_type": "code",
   "execution_count": 123,
   "id": "9fd979a7",
   "metadata": {},
   "outputs": [
    {
     "data": {
      "text/html": [
       "<div>\n",
       "<style scoped>\n",
       "    .dataframe tbody tr th:only-of-type {\n",
       "        vertical-align: middle;\n",
       "    }\n",
       "\n",
       "    .dataframe tbody tr th {\n",
       "        vertical-align: top;\n",
       "    }\n",
       "\n",
       "    .dataframe thead th {\n",
       "        text-align: right;\n",
       "    }\n",
       "</style>\n",
       "<table border=\"1\" class=\"dataframe\">\n",
       "  <thead>\n",
       "    <tr style=\"text-align: right;\">\n",
       "      <th></th>\n",
       "      <th>gas_type</th>\n",
       "      <th>rain</th>\n",
       "      <th>consume</th>\n",
       "    </tr>\n",
       "  </thead>\n",
       "  <tbody>\n",
       "    <tr>\n",
       "      <th>0</th>\n",
       "      <td>E10</td>\n",
       "      <td>0</td>\n",
       "      <td>4.877305</td>\n",
       "    </tr>\n",
       "    <tr>\n",
       "      <th>1</th>\n",
       "      <td>E10</td>\n",
       "      <td>1</td>\n",
       "      <td>5.600000</td>\n",
       "    </tr>\n",
       "    <tr>\n",
       "      <th>2</th>\n",
       "      <td>SP98</td>\n",
       "      <td>0</td>\n",
       "      <td>4.790957</td>\n",
       "    </tr>\n",
       "    <tr>\n",
       "      <th>3</th>\n",
       "      <td>SP98</td>\n",
       "      <td>1</td>\n",
       "      <td>5.609677</td>\n",
       "    </tr>\n",
       "  </tbody>\n",
       "</table>\n",
       "</div>"
      ],
      "text/plain": [
       "  gas_type  rain   consume\n",
       "0      E10     0  4.877305\n",
       "1      E10     1  5.600000\n",
       "2     SP98     0  4.790957\n",
       "3     SP98     1  5.609677"
      ]
     },
     "execution_count": 123,
     "metadata": {},
     "output_type": "execute_result"
    }
   ],
   "source": [
    "rain_data = measurements_cleaned.groupby(['gas_type','rain']).agg({'consume':'mean'}).reset_index()\n",
    "rain_data.head()"
   ]
  },
  {
   "cell_type": "markdown",
   "id": "7923c43e",
   "metadata": {},
   "source": [
    "From the analysis above, we can see that rain impacts gas consumption:\n",
    " - When it rains, consumption goes up for E10 to 5.6 L/100km and for SP98 tp 5.61 L/100km.\n",
    " - On the other hand, when the weather is dry, the average gas consumption drops to 4.88 L/100km for E10 and to 4.79 L/100km for SP98"
   ]
  },
  {
   "cell_type": "markdown",
   "id": "93e1e517",
   "metadata": {},
   "source": [
    "##### Check changes to consumption when it is sunny enough that the car felt warm\n"
   ]
  },
  {
   "cell_type": "code",
   "execution_count": 144,
   "id": "a2fc0c76",
   "metadata": {},
   "outputs": [
    {
     "data": {
      "text/plain": [
       "0    345\n",
       "1     31\n",
       "Name: sun, dtype: int64"
      ]
     },
     "execution_count": 144,
     "metadata": {},
     "output_type": "execute_result"
    }
   ],
   "source": [
    "measurements_cleaned['sun'].value_counts()"
   ]
  },
  {
   "cell_type": "code",
   "execution_count": 124,
   "id": "1b3e214c",
   "metadata": {},
   "outputs": [
    {
     "data": {
      "text/html": [
       "<div>\n",
       "<style scoped>\n",
       "    .dataframe tbody tr th:only-of-type {\n",
       "        vertical-align: middle;\n",
       "    }\n",
       "\n",
       "    .dataframe tbody tr th {\n",
       "        vertical-align: top;\n",
       "    }\n",
       "\n",
       "    .dataframe thead th {\n",
       "        text-align: right;\n",
       "    }\n",
       "</style>\n",
       "<table border=\"1\" class=\"dataframe\">\n",
       "  <thead>\n",
       "    <tr style=\"text-align: right;\">\n",
       "      <th></th>\n",
       "      <th>gas_type</th>\n",
       "      <th>sun</th>\n",
       "      <th>consume</th>\n",
       "    </tr>\n",
       "  </thead>\n",
       "  <tbody>\n",
       "    <tr>\n",
       "      <th>0</th>\n",
       "      <td>E10</td>\n",
       "      <td>0</td>\n",
       "      <td>4.986986</td>\n",
       "    </tr>\n",
       "    <tr>\n",
       "      <th>1</th>\n",
       "      <td>E10</td>\n",
       "      <td>1</td>\n",
       "      <td>4.472727</td>\n",
       "    </tr>\n",
       "    <tr>\n",
       "      <th>2</th>\n",
       "      <td>SP98</td>\n",
       "      <td>0</td>\n",
       "      <td>4.971357</td>\n",
       "    </tr>\n",
       "    <tr>\n",
       "      <th>3</th>\n",
       "      <td>SP98</td>\n",
       "      <td>1</td>\n",
       "      <td>4.265000</td>\n",
       "    </tr>\n",
       "  </tbody>\n",
       "</table>\n",
       "</div>"
      ],
      "text/plain": [
       "  gas_type  sun   consume\n",
       "0      E10    0  4.986986\n",
       "1      E10    1  4.472727\n",
       "2     SP98    0  4.971357\n",
       "3     SP98    1  4.265000"
      ]
     },
     "execution_count": 124,
     "metadata": {},
     "output_type": "execute_result"
    }
   ],
   "source": [
    "sun_data = measurements_cleaned.groupby(['gas_type','sun']).agg({'consume':'mean'}).reset_index()\n",
    "sun_data.head()"
   ]
  },
  {
   "cell_type": "markdown",
   "id": "5001fd41",
   "metadata": {},
   "source": [
    "Looking at the above table, we can conlude that warmer weather influences gas consumption. "
   ]
  },
  {
   "cell_type": "markdown",
   "id": "6e89b4ca",
   "metadata": {},
   "source": [
    "##### Temperature vs Consumption"
   ]
  },
  {
   "cell_type": "code",
   "execution_count": 146,
   "id": "15d365e9",
   "metadata": {},
   "outputs": [
    {
     "data": {
      "text/plain": [
       "11.340425531914894"
      ]
     },
     "execution_count": 146,
     "metadata": {},
     "output_type": "execute_result"
    }
   ],
   "source": [
    "measurements_cleaned['temp_outside'].mean()"
   ]
  },
  {
   "cell_type": "code",
   "execution_count": 130,
   "id": "61a3eb34",
   "metadata": {},
   "outputs": [
    {
     "data": {
      "text/plain": [
       "<Figure size 600x300 with 0 Axes>"
      ]
     },
     "metadata": {},
     "output_type": "display_data"
    },
    {
     "data": {
      "image/png": "[encoded data removed]",
      "text/plain": [
       "<Figure size 500x500 with 1 Axes>"
      ]
     },
     "metadata": {},
     "output_type": "display_data"
    }
   ],
   "source": [
    "plt.figure(figsize=(6,3))\n",
    "sns.lmplot(x = 'temp_outside', y = 'consume',data=measurements_cleaned)\n",
    "plt.title('Temperature vs Consumption')\n",
    "plt.show()"
   ]
  },
  {
   "cell_type": "markdown",
   "id": "04a2c632",
   "metadata": {},
   "source": [
    "In general, the warmer the weather gets, lower is consumption of gas"
   ]
  },
  {
   "cell_type": "code",
   "execution_count": 135,
   "id": "c9771647",
   "metadata": {},
   "outputs": [
    {
     "data": {
      "text/html": [
       "<div>\n",
       "<style scoped>\n",
       "    .dataframe tbody tr th:only-of-type {\n",
       "        vertical-align: middle;\n",
       "    }\n",
       "\n",
       "    .dataframe tbody tr th {\n",
       "        vertical-align: top;\n",
       "    }\n",
       "\n",
       "    .dataframe thead th {\n",
       "        text-align: right;\n",
       "    }\n",
       "</style>\n",
       "<table border=\"1\" class=\"dataframe\">\n",
       "  <thead>\n",
       "    <tr style=\"text-align: right;\">\n",
       "      <th></th>\n",
       "      <th>AC</th>\n",
       "      <th>temp_outside</th>\n",
       "    </tr>\n",
       "  </thead>\n",
       "  <tbody>\n",
       "    <tr>\n",
       "      <th>0</th>\n",
       "      <td>0</td>\n",
       "      <td>10.988439</td>\n",
       "    </tr>\n",
       "    <tr>\n",
       "      <th>1</th>\n",
       "      <td>1</td>\n",
       "      <td>15.400000</td>\n",
       "    </tr>\n",
       "  </tbody>\n",
       "</table>\n",
       "</div>"
      ],
      "text/plain": [
       "   AC  temp_outside\n",
       "0   0     10.988439\n",
       "1   1     15.400000"
      ]
     },
     "execution_count": 135,
     "metadata": {},
     "output_type": "execute_result"
    }
   ],
   "source": [
    "AC_temp_data = measurements_cleaned.groupby(['AC']).agg({'temp_outside':'mean'}).reset_index()\n",
    "AC_temp_data.head()"
   ]
  },
  {
   "cell_type": "code",
   "execution_count": 138,
   "id": "e1fb8c9d",
   "metadata": {},
   "outputs": [
    {
     "data": {
      "image/png": "[encoded data removed]",
      "text/plain": [
       "<Figure size 600x300 with 1 Axes>"
      ]
     },
     "metadata": {},
     "output_type": "display_data"
    }
   ],
   "source": [
    "plt.figure(figsize=(6,3))\n",
    "sns.barplot(x= 'AC',y='temp_outside',data=measurements_cleaned)\n",
    "plt.title('Temperature outside vs AC')\n",
    "plt.show()"
   ]
  },
  {
   "cell_type": "markdown",
   "id": "41e6ba54",
   "metadata": {},
   "source": [
    "In general, when temperatures were higher than 12.5 C, AC was turned on. As shown above, gas consumption goes up when the AC is on regardless the gas type."
   ]
  },
  {
   "cell_type": "markdown",
   "id": "f97a7fbb",
   "metadata": {},
   "source": [
    "##### speed vs consumption"
   ]
  },
  {
   "cell_type": "code",
   "execution_count": 145,
   "id": "4ac0a391",
   "metadata": {},
   "outputs": [
    {
     "name": "stdout",
     "output_type": "stream",
     "text": [
      "gas_type\n",
      "E10     43.566879\n",
      "SP98    40.803653\n",
      "Name: speed, dtype: float64\n"
     ]
    },
    {
     "data": {
      "image/png": "[encoded data removed]",
      "text/plain": [
       "<Figure size 600x300 with 1 Axes>"
      ]
     },
     "metadata": {},
     "output_type": "display_data"
    }
   ],
   "source": [
    "print(measurements_cleaned.groupby('gas_type')['speed'].mean())\n",
    "\n",
    "plt.figure(figsize=(6,3))\n",
    "measurements_cleaned.groupby('gas_type')['speed'].mean().plot.bar()\n",
    "plt.ylabel('Average speed by gas type')\n",
    "plt.show()"
   ]
  },
  {
   "cell_type": "code",
   "execution_count": 139,
   "id": "26ed7455",
   "metadata": {},
   "outputs": [
    {
     "data": {
      "text/plain": [
       "<Figure size 600x300 with 0 Axes>"
      ]
     },
     "metadata": {},
     "output_type": "display_data"
    },
    {
     "data": {
      "image/png": "[encoded data removed]",
      "text/plain": [
       "<Figure size 500x500 with 1 Axes>"
      ]
     },
     "metadata": {},
     "output_type": "display_data"
    }
   ],
   "source": [
    "\n",
    "plt.figure(figsize=(6,3))\n",
    "sns.lmplot(x = 'speed', y = 'consume',data=measurements_cleaned)\n",
    "plt.title('Speed vs Consumption')\n",
    "plt.show()"
   ]
  },
  {
   "cell_type": "markdown",
   "id": "bf3bdfa2",
   "metadata": {},
   "source": [
    "Generally, as the speed increases the gas consumption decreases.\n",
    "\n",
    "Higher consumption when speed is very low is due to the fact that a car puts a lot of extra work on the engine to start moving."
   ]
  },
  {
   "cell_type": "markdown",
   "id": "ded71089",
   "metadata": {},
   "source": [
    "##### Correlations"
   ]
  },
  {
   "cell_type": "code",
   "execution_count": 104,
   "id": "0361df64",
   "metadata": {},
   "outputs": [
    {
     "data": {
      "image/png": "[encoded data removed]",
      "text/plain": [
       "<Figure size 700x400 with 2 Axes>"
      ]
     },
     "metadata": {},
     "output_type": "display_data"
    }
   ],
   "source": [
    "\n",
    "\n",
    "corr=measurements_cleaned.corr()      # compute the correlation matrix\n",
    "\n",
    "\n",
    "mask=np.triu(np.ones_like(corr, dtype=bool))     # generate a mask for the upper triangle\n",
    "\n",
    "f, ax=plt.subplots(figsize=(7, 4))                 # set up the matplotlib figure\n",
    "\n",
    "cmap=sns.diverging_palette(110, 10, as_cmap=True)   # generate a custom diverging colormap\n",
    "\n",
    "sns.heatmap(corr, mask=mask, cmap=cmap,             # draw the heatmap with the mask and correct aspect ratio\n",
    "            vmax=.3, center=0, square=True,\n",
    "            linewidths=.5, cbar_kws={\"shrink\": .5});"
   ]
  },
  {
   "cell_type": "markdown",
   "id": "faad8725",
   "metadata": {},
   "source": [
    "##### Conclusions"
   ]
  },
  {
   "cell_type": "markdown",
   "id": "71d2029d",
   "metadata": {},
   "source": [
    "SP98 was the most used gas type for the period of the exercise\n",
    " - SP98    219\n",
    " - E10     157\n",
    "\n",
    "Distance\n",
    " - average distance travelled using E10 was higher meaning that by using this type, it is possible to travel longer distances\n",
    "\n",
    "Gas consumption\n",
    " - Overall, gas consumption is lower with SP98 (4.906849 L/100km) but is not significantly better.\n",
    " - However, when anything special happens like when it is raining or the AC is on, E10 comes up better.\n",
    " \n",
    "Speed\n",
    " - Generally, as the speed increases the gas consumption decreases.\n",
    " - Average speed using E10 is higher than when using SP98"
   ]
  },
  {
   "cell_type": "markdown",
   "id": "4459db05",
   "metadata": {},
   "source": [
    "### Predictions"
   ]
  },
  {
   "cell_type": "markdown",
   "id": "8a005775",
   "metadata": {},
   "source": [
    "#### Hypothesis test"
   ]
  },
  {
   "cell_type": "markdown",
   "id": "8930cdb5",
   "metadata": {},
   "source": [
    "Test whether there is a relationship between gas consumption and temperature"
   ]
  },
  {
   "cell_type": "code",
   "execution_count": 150,
   "id": "6230196d",
   "metadata": {},
   "outputs": [],
   "source": [
    "data_crosstab = pd.crosstab(measurements_cleaned['temp_outside'], measurements_cleaned['consume'], margins = False)"
   ]
  },
  {
   "cell_type": "code",
   "execution_count": 153,
   "id": "af67186b",
   "metadata": {},
   "outputs": [
    {
     "data": {
      "text/plain": [
       "0.38807264696042054"
      ]
     },
     "execution_count": 153,
     "metadata": {},
     "output_type": "execute_result"
    }
   ],
   "source": [
    "import scipy.stats as st\n",
    "pvalue=st.chi2_contingency(data_crosstab)[1]\n",
    "pvalue\n"
   ]
  },
  {
   "cell_type": "code",
   "execution_count": 155,
   "id": "8387d664",
   "metadata": {},
   "outputs": [
    {
     "data": {
      "text/plain": [
       "1344"
      ]
     },
     "execution_count": 155,
     "metadata": {},
     "output_type": "execute_result"
    }
   ],
   "source": [
    "dof=st.chi2_contingency(data_crosstab)[2]\n",
    "dof"
   ]
  },
  {
   "cell_type": "markdown",
   "id": "dd10beb7",
   "metadata": {},
   "source": [
    "At 0.05% level of significance, we accept the null hypotheses. Temperature and consumption are independent"
   ]
  },
  {
   "cell_type": "markdown",
   "id": "276070f1",
   "metadata": {},
   "source": [
    "#### Prediction"
   ]
  },
  {
   "cell_type": "markdown",
   "id": "84b43ddb",
   "metadata": {},
   "source": [
    "##### Splitting into train set and test set"
   ]
  },
  {
   "cell_type": "code",
   "execution_count": 156,
   "id": "b8612e23",
   "metadata": {},
   "outputs": [
    {
     "name": "stdout",
     "output_type": "stream",
     "text": [
      "(376, 8)\n",
      "(376,)\n"
     ]
    }
   ],
   "source": [
    "# first, split X-y (learning-target data)\n",
    "X = measurements_cleaned.drop(columns=['consume'])\n",
    "y = measurements_cleaned['consume']\n",
    "\n",
    "# checking shape\n",
    "print(X.shape)\n",
    "print(y.shape)"
   ]
  },
  {
   "cell_type": "markdown",
   "id": "04eee25f",
   "metadata": {},
   "source": [
    "##### train_test_split"
   ]
  },
  {
   "cell_type": "code",
   "execution_count": 157,
   "id": "87d9a403",
   "metadata": {},
   "outputs": [],
   "source": [
    "X_train, X_test, y_train, y_test=train_test_split(X, y, test_size=0.2, random_state=42)  # random state fixed sample"
   ]
  },
  {
   "cell_type": "markdown",
   "id": "6edcf774",
   "metadata": {},
   "source": [
    "##### Scaling numerical data"
   ]
  },
  {
   "cell_type": "code",
   "execution_count": 159,
   "id": "b48aab6a",
   "metadata": {},
   "outputs": [
    {
     "data": {
      "text/html": [
       "<div>\n",
       "<style scoped>\n",
       "    .dataframe tbody tr th:only-of-type {\n",
       "        vertical-align: middle;\n",
       "    }\n",
       "\n",
       "    .dataframe tbody tr th {\n",
       "        vertical-align: top;\n",
       "    }\n",
       "\n",
       "    .dataframe thead th {\n",
       "        text-align: right;\n",
       "    }\n",
       "</style>\n",
       "<table border=\"1\" class=\"dataframe\">\n",
       "  <thead>\n",
       "    <tr style=\"text-align: right;\">\n",
       "      <th></th>\n",
       "      <th>distance</th>\n",
       "      <th>speed</th>\n",
       "      <th>temp_inside</th>\n",
       "      <th>temp_outside</th>\n",
       "    </tr>\n",
       "  </thead>\n",
       "  <tbody>\n",
       "    <tr>\n",
       "      <th>0</th>\n",
       "      <td>0.071229</td>\n",
       "      <td>0.421053</td>\n",
       "      <td>0.461538</td>\n",
       "      <td>0.277778</td>\n",
       "    </tr>\n",
       "    <tr>\n",
       "      <th>1</th>\n",
       "      <td>0.065642</td>\n",
       "      <td>0.368421</td>\n",
       "      <td>0.461538</td>\n",
       "      <td>0.972222</td>\n",
       "    </tr>\n",
       "    <tr>\n",
       "      <th>2</th>\n",
       "      <td>0.431099</td>\n",
       "      <td>0.973684</td>\n",
       "      <td>0.615385</td>\n",
       "      <td>0.638889</td>\n",
       "    </tr>\n",
       "    <tr>\n",
       "      <th>3</th>\n",
       "      <td>0.196462</td>\n",
       "      <td>0.868421</td>\n",
       "      <td>0.384615</td>\n",
       "      <td>0.222222</td>\n",
       "    </tr>\n",
       "    <tr>\n",
       "      <th>4</th>\n",
       "      <td>0.100559</td>\n",
       "      <td>0.618421</td>\n",
       "      <td>0.384615</td>\n",
       "      <td>0.333333</td>\n",
       "    </tr>\n",
       "    <tr>\n",
       "      <th>...</th>\n",
       "      <td>...</td>\n",
       "      <td>...</td>\n",
       "      <td>...</td>\n",
       "      <td>...</td>\n",
       "    </tr>\n",
       "    <tr>\n",
       "      <th>71</th>\n",
       "      <td>0.058659</td>\n",
       "      <td>0.197368</td>\n",
       "      <td>0.384615</td>\n",
       "      <td>0.305556</td>\n",
       "    </tr>\n",
       "    <tr>\n",
       "      <th>72</th>\n",
       "      <td>0.128957</td>\n",
       "      <td>0.171053</td>\n",
       "      <td>0.538462</td>\n",
       "      <td>0.472222</td>\n",
       "    </tr>\n",
       "    <tr>\n",
       "      <th>73</th>\n",
       "      <td>0.069832</td>\n",
       "      <td>0.276316</td>\n",
       "      <td>0.461538</td>\n",
       "      <td>0.777778</td>\n",
       "    </tr>\n",
       "    <tr>\n",
       "      <th>74</th>\n",
       "      <td>0.241620</td>\n",
       "      <td>0.750000</td>\n",
       "      <td>0.384615</td>\n",
       "      <td>0.194444</td>\n",
       "    </tr>\n",
       "    <tr>\n",
       "      <th>75</th>\n",
       "      <td>0.016760</td>\n",
       "      <td>0.157895</td>\n",
       "      <td>0.153846</td>\n",
       "      <td>0.416667</td>\n",
       "    </tr>\n",
       "  </tbody>\n",
       "</table>\n",
       "<p>76 rows × 4 columns</p>\n",
       "</div>"
      ],
      "text/plain": [
       "    distance     speed  temp_inside  temp_outside\n",
       "0   0.071229  0.421053     0.461538      0.277778\n",
       "1   0.065642  0.368421     0.461538      0.972222\n",
       "2   0.431099  0.973684     0.615385      0.638889\n",
       "3   0.196462  0.868421     0.384615      0.222222\n",
       "4   0.100559  0.618421     0.384615      0.333333\n",
       "..       ...       ...          ...           ...\n",
       "71  0.058659  0.197368     0.384615      0.305556\n",
       "72  0.128957  0.171053     0.538462      0.472222\n",
       "73  0.069832  0.276316     0.461538      0.777778\n",
       "74  0.241620  0.750000     0.384615      0.194444\n",
       "75  0.016760  0.157895     0.153846      0.416667\n",
       "\n",
       "[76 rows x 4 columns]"
      ]
     },
     "execution_count": 159,
     "metadata": {},
     "output_type": "execute_result"
    }
   ],
   "source": [
    "#cat/num X-train\n",
    "X_train_num = X_train.select_dtypes(include = np.number)\n",
    "X_train_cat = X_train.select_dtypes(object)\n",
    "\n",
    "#cat/num X-test\n",
    "X_test_num = X_test.select_dtypes(include = np.number)\n",
    "X_test_cat = X_test.select_dtypes(include = object)\n",
    "\n",
    "# N X-train\n",
    "transformer = MinMaxScaler().fit(X_train_num)\n",
    "X_scaled_train = pd.DataFrame(transformer.transform(X_train_num),columns=X_train_num.columns)\n",
    "\n",
    "#Scale X-test\n",
    "X_scaled_test = pd.DataFrame(transformer.transform(X_test_num),columns=X_test_num.columns)\n",
    "X_scaled_test"
   ]
  },
  {
   "cell_type": "markdown",
   "id": "0cdf7378",
   "metadata": {},
   "source": [
    "##### Encoding Categorical Data"
   ]
  },
  {
   "cell_type": "code",
   "execution_count": 174,
   "id": "93a61c14",
   "metadata": {},
   "outputs": [
    {
     "data": {
      "text/html": [
       "<div>\n",
       "<style scoped>\n",
       "    .dataframe tbody tr th:only-of-type {\n",
       "        vertical-align: middle;\n",
       "    }\n",
       "\n",
       "    .dataframe tbody tr th {\n",
       "        vertical-align: top;\n",
       "    }\n",
       "\n",
       "    .dataframe thead th {\n",
       "        text-align: right;\n",
       "    }\n",
       "</style>\n",
       "<table border=\"1\" class=\"dataframe\">\n",
       "  <thead>\n",
       "    <tr style=\"text-align: right;\">\n",
       "      <th></th>\n",
       "      <th>gas_type</th>\n",
       "      <th>AC</th>\n",
       "      <th>rain</th>\n",
       "      <th>sun</th>\n",
       "    </tr>\n",
       "  </thead>\n",
       "  <tbody>\n",
       "    <tr>\n",
       "      <th>116</th>\n",
       "      <td>SP98</td>\n",
       "      <td>0</td>\n",
       "      <td>1</td>\n",
       "      <td>0</td>\n",
       "    </tr>\n",
       "    <tr>\n",
       "      <th>228</th>\n",
       "      <td>SP98</td>\n",
       "      <td>1</td>\n",
       "      <td>1</td>\n",
       "      <td>0</td>\n",
       "    </tr>\n",
       "    <tr>\n",
       "      <th>362</th>\n",
       "      <td>SP98</td>\n",
       "      <td>0</td>\n",
       "      <td>0</td>\n",
       "      <td>0</td>\n",
       "    </tr>\n",
       "    <tr>\n",
       "      <th>204</th>\n",
       "      <td>SP98</td>\n",
       "      <td>1</td>\n",
       "      <td>1</td>\n",
       "      <td>0</td>\n",
       "    </tr>\n",
       "    <tr>\n",
       "      <th>75</th>\n",
       "      <td>SP98</td>\n",
       "      <td>0</td>\n",
       "      <td>0</td>\n",
       "      <td>0</td>\n",
       "    </tr>\n",
       "    <tr>\n",
       "      <th>...</th>\n",
       "      <td>...</td>\n",
       "      <td>...</td>\n",
       "      <td>...</td>\n",
       "      <td>...</td>\n",
       "    </tr>\n",
       "    <tr>\n",
       "      <th>71</th>\n",
       "      <td>SP98</td>\n",
       "      <td>0</td>\n",
       "      <td>0</td>\n",
       "      <td>0</td>\n",
       "    </tr>\n",
       "    <tr>\n",
       "      <th>113</th>\n",
       "      <td>SP98</td>\n",
       "      <td>0</td>\n",
       "      <td>0</td>\n",
       "      <td>0</td>\n",
       "    </tr>\n",
       "    <tr>\n",
       "      <th>282</th>\n",
       "      <td>SP98</td>\n",
       "      <td>0</td>\n",
       "      <td>0</td>\n",
       "      <td>0</td>\n",
       "    </tr>\n",
       "    <tr>\n",
       "      <th>360</th>\n",
       "      <td>SP98</td>\n",
       "      <td>0</td>\n",
       "      <td>0</td>\n",
       "      <td>0</td>\n",
       "    </tr>\n",
       "    <tr>\n",
       "      <th>109</th>\n",
       "      <td>SP98</td>\n",
       "      <td>0</td>\n",
       "      <td>0</td>\n",
       "      <td>0</td>\n",
       "    </tr>\n",
       "  </tbody>\n",
       "</table>\n",
       "<p>300 rows × 4 columns</p>\n",
       "</div>"
      ],
      "text/plain": [
       "    gas_type AC rain sun\n",
       "116     SP98  0    1   0\n",
       "228     SP98  1    1   0\n",
       "362     SP98  0    0   0\n",
       "204     SP98  1    1   0\n",
       "75      SP98  0    0   0\n",
       "..       ... ..  ...  ..\n",
       "71      SP98  0    0   0\n",
       "113     SP98  0    0   0\n",
       "282     SP98  0    0   0\n",
       "360     SP98  0    0   0\n",
       "109     SP98  0    0   0\n",
       "\n",
       "[300 rows x 4 columns]"
      ]
     },
     "execution_count": 174,
     "metadata": {},
     "output_type": "execute_result"
    }
   ],
   "source": [
    "X_train_cat.columns"
   ]
  },
  {
   "cell_type": "code",
   "execution_count": 175,
   "id": "f4c14f66",
   "metadata": {},
   "outputs": [],
   "source": [
    "# Onehot encoding\n",
    "encoder = OneHotEncoder(handle_unknown='error', drop='first').fit(X_train_cat)\n",
    "\n",
    "X_train_encoded_onehot = encoder.transform(X_train_cat).toarray()\n",
    "X_train_encoded_onehot = pd.DataFrame(X_train_encoded_onehot)\n",
    "X_train_encoded_onehot.columns = X_train_cat.columns\n",
    "\n",
    "\n",
    "X_test_encoded_onehot = encoder.transform(X_test_cat).toarray()\n",
    "X_test_encoded_onehot = pd.DataFrame(X_test_encoded_onehot)\n",
    "X_test_encoded_onehot.columns = X_train_cat.columns"
   ]
  },
  {
   "cell_type": "code",
   "execution_count": null,
   "id": "f91fb4df",
   "metadata": {},
   "outputs": [],
   "source": []
  },
  {
   "cell_type": "code",
   "execution_count": 176,
   "id": "813c7d3d",
   "metadata": {},
   "outputs": [
    {
     "data": {
      "text/html": [
       "<div>\n",
       "<style scoped>\n",
       "    .dataframe tbody tr th:only-of-type {\n",
       "        vertical-align: middle;\n",
       "    }\n",
       "\n",
       "    .dataframe tbody tr th {\n",
       "        vertical-align: top;\n",
       "    }\n",
       "\n",
       "    .dataframe thead th {\n",
       "        text-align: right;\n",
       "    }\n",
       "</style>\n",
       "<table border=\"1\" class=\"dataframe\">\n",
       "  <thead>\n",
       "    <tr style=\"text-align: right;\">\n",
       "      <th></th>\n",
       "      <th>distance</th>\n",
       "      <th>speed</th>\n",
       "      <th>temp_inside</th>\n",
       "      <th>temp_outside</th>\n",
       "      <th>gas_type</th>\n",
       "      <th>AC</th>\n",
       "      <th>rain</th>\n",
       "      <th>sun</th>\n",
       "    </tr>\n",
       "  </thead>\n",
       "  <tbody>\n",
       "    <tr>\n",
       "      <th>0</th>\n",
       "      <td>0.048883</td>\n",
       "      <td>0.157895</td>\n",
       "      <td>0.615385</td>\n",
       "      <td>0.250000</td>\n",
       "      <td>1.0</td>\n",
       "      <td>0.0</td>\n",
       "      <td>1.0</td>\n",
       "      <td>0.0</td>\n",
       "    </tr>\n",
       "    <tr>\n",
       "      <th>1</th>\n",
       "      <td>0.054469</td>\n",
       "      <td>0.315789</td>\n",
       "      <td>0.538462</td>\n",
       "      <td>0.222222</td>\n",
       "      <td>1.0</td>\n",
       "      <td>1.0</td>\n",
       "      <td>1.0</td>\n",
       "      <td>0.0</td>\n",
       "    </tr>\n",
       "    <tr>\n",
       "      <th>2</th>\n",
       "      <td>0.065642</td>\n",
       "      <td>0.539474</td>\n",
       "      <td>0.461538</td>\n",
       "      <td>0.638889</td>\n",
       "      <td>1.0</td>\n",
       "      <td>0.0</td>\n",
       "      <td>0.0</td>\n",
       "      <td>0.0</td>\n",
       "    </tr>\n",
       "    <tr>\n",
       "      <th>3</th>\n",
       "      <td>0.034451</td>\n",
       "      <td>0.184211</td>\n",
       "      <td>0.538462</td>\n",
       "      <td>0.472222</td>\n",
       "      <td>1.0</td>\n",
       "      <td>1.0</td>\n",
       "      <td>1.0</td>\n",
       "      <td>0.0</td>\n",
       "    </tr>\n",
       "    <tr>\n",
       "      <th>4</th>\n",
       "      <td>0.060056</td>\n",
       "      <td>0.315789</td>\n",
       "      <td>0.384615</td>\n",
       "      <td>0.333333</td>\n",
       "      <td>1.0</td>\n",
       "      <td>0.0</td>\n",
       "      <td>0.0</td>\n",
       "      <td>0.0</td>\n",
       "    </tr>\n",
       "    <tr>\n",
       "      <th>...</th>\n",
       "      <td>...</td>\n",
       "      <td>...</td>\n",
       "      <td>...</td>\n",
       "      <td>...</td>\n",
       "      <td>...</td>\n",
       "      <td>...</td>\n",
       "      <td>...</td>\n",
       "      <td>...</td>\n",
       "    </tr>\n",
       "    <tr>\n",
       "      <th>295</th>\n",
       "      <td>0.003259</td>\n",
       "      <td>0.078947</td>\n",
       "      <td>0.384615</td>\n",
       "      <td>0.416667</td>\n",
       "      <td>1.0</td>\n",
       "      <td>0.0</td>\n",
       "      <td>0.0</td>\n",
       "      <td>0.0</td>\n",
       "    </tr>\n",
       "    <tr>\n",
       "      <th>296</th>\n",
       "      <td>0.098231</td>\n",
       "      <td>0.684211</td>\n",
       "      <td>0.230769</td>\n",
       "      <td>0.333333</td>\n",
       "      <td>1.0</td>\n",
       "      <td>0.0</td>\n",
       "      <td>0.0</td>\n",
       "      <td>0.0</td>\n",
       "    </tr>\n",
       "    <tr>\n",
       "      <th>297</th>\n",
       "      <td>0.068436</td>\n",
       "      <td>0.342105</td>\n",
       "      <td>0.461538</td>\n",
       "      <td>0.361111</td>\n",
       "      <td>1.0</td>\n",
       "      <td>0.0</td>\n",
       "      <td>0.0</td>\n",
       "      <td>0.0</td>\n",
       "    </tr>\n",
       "    <tr>\n",
       "      <th>298</th>\n",
       "      <td>0.021881</td>\n",
       "      <td>0.171053</td>\n",
       "      <td>0.461538</td>\n",
       "      <td>0.611111</td>\n",
       "      <td>1.0</td>\n",
       "      <td>0.0</td>\n",
       "      <td>0.0</td>\n",
       "      <td>0.0</td>\n",
       "    </tr>\n",
       "    <tr>\n",
       "      <th>299</th>\n",
       "      <td>0.071229</td>\n",
       "      <td>0.552632</td>\n",
       "      <td>0.307692</td>\n",
       "      <td>0.333333</td>\n",
       "      <td>1.0</td>\n",
       "      <td>0.0</td>\n",
       "      <td>0.0</td>\n",
       "      <td>0.0</td>\n",
       "    </tr>\n",
       "  </tbody>\n",
       "</table>\n",
       "<p>300 rows × 8 columns</p>\n",
       "</div>"
      ],
      "text/plain": [
       "     distance     speed  temp_inside  temp_outside  gas_type   AC  rain  sun\n",
       "0    0.048883  0.157895     0.615385      0.250000       1.0  0.0   1.0  0.0\n",
       "1    0.054469  0.315789     0.538462      0.222222       1.0  1.0   1.0  0.0\n",
       "2    0.065642  0.539474     0.461538      0.638889       1.0  0.0   0.0  0.0\n",
       "3    0.034451  0.184211     0.538462      0.472222       1.0  1.0   1.0  0.0\n",
       "4    0.060056  0.315789     0.384615      0.333333       1.0  0.0   0.0  0.0\n",
       "..        ...       ...          ...           ...       ...  ...   ...  ...\n",
       "295  0.003259  0.078947     0.384615      0.416667       1.0  0.0   0.0  0.0\n",
       "296  0.098231  0.684211     0.230769      0.333333       1.0  0.0   0.0  0.0\n",
       "297  0.068436  0.342105     0.461538      0.361111       1.0  0.0   0.0  0.0\n",
       "298  0.021881  0.171053     0.461538      0.611111       1.0  0.0   0.0  0.0\n",
       "299  0.071229  0.552632     0.307692      0.333333       1.0  0.0   0.0  0.0\n",
       "\n",
       "[300 rows x 8 columns]"
      ]
     },
     "execution_count": 176,
     "metadata": {},
     "output_type": "execute_result"
    }
   ],
   "source": [
    "#merging the data and training set with encoded and normalized values and the dropped special_features\n",
    "# Training data first\n",
    "X_train_nrml = pd.concat([X_scaled_train,X_train_encoded_onehot], axis = 1)\n",
    "X_train_nrml"
   ]
  },
  {
   "cell_type": "code",
   "execution_count": 177,
   "id": "61a268da",
   "metadata": {},
   "outputs": [],
   "source": [
    "#merging test data\n",
    "X_test_nrml = pd.concat([X_scaled_test,X_test_encoded_onehot], axis = 1)"
   ]
  },
  {
   "cell_type": "markdown",
   "id": "fb6ec8c8",
   "metadata": {},
   "source": [
    "##### Modeling"
   ]
  },
  {
   "cell_type": "code",
   "execution_count": 181,
   "id": "fe6b0d18",
   "metadata": {},
   "outputs": [],
   "source": [
    "from sklearn.linear_model import LinearRegression as LinReg\n",
    "\n",
    "linreg=LinReg()    # model\n",
    "linreg.fit(X_train_nrml, y_train)   # model train\n",
    "y_pred_linreg=linreg.predict(X_test_nrml)   # model prediction"
   ]
  },
  {
   "cell_type": "code",
   "execution_count": null,
   "id": "42907412",
   "metadata": {},
   "outputs": [],
   "source": []
  },
  {
   "cell_type": "code",
   "execution_count": 182,
   "id": "9e543315",
   "metadata": {},
   "outputs": [],
   "source": [
    "from sklearn.ensemble import RandomForestRegressor as RFR\n",
    "\n",
    "rfr=RFR()\n",
    "rfr.fit(X_train_nrml, y_train)\n",
    "\n",
    "y_pred_rfr=rfr.predict(X_test_nrml)"
   ]
  },
  {
   "cell_type": "code",
   "execution_count": null,
   "id": "7284bcc2",
   "metadata": {},
   "outputs": [],
   "source": []
  },
  {
   "cell_type": "code",
   "execution_count": null,
   "id": "7cc1337f",
   "metadata": {},
   "outputs": [],
   "source": [
    "Model Validation"
   ]
  },
  {
   "cell_type": "code",
   "execution_count": 184,
   "id": "f951f35c",
   "metadata": {},
   "outputs": [],
   "source": [
    "models=[linreg,rfr]\n",
    "model_names=['linreg','rfr',]\n",
    "preds=[y_pred_linreg, y_pred_rfr]"
   ]
  },
  {
   "cell_type": "code",
   "execution_count": null,
   "id": "1a33659f",
   "metadata": {},
   "outputs": [],
   "source": [
    "R2"
   ]
  },
  {
   "cell_type": "code",
   "execution_count": 185,
   "id": "2cccd5b7",
   "metadata": {},
   "outputs": [
    {
     "name": "stdout",
     "output_type": "stream",
     "text": [
      "Model: linreg, train R2: 0.20575179491189577 -- test R2: 0.203474496495474\n",
      "Model: rfr, train R2: 0.9308490049991807 -- test R2: 0.6948531035774608\n"
     ]
    }
   ],
   "source": [
    "for i in range(len(models)):\n",
    "\n",
    "    train_score=models[i].score(X_train_nrml, y_train) #R2\n",
    "    test_score=models[i].score(X_test_nrml, y_test)\n",
    "\n",
    "    print ('Model: {}, train R2: {} -- test R2: {}'.format(model_names[i], train_score, test_score))"
   ]
  },
  {
   "cell_type": "code",
   "execution_count": null,
   "id": "1890bc50",
   "metadata": {},
   "outputs": [],
   "source": []
  }
 ],
 "metadata": {
  "kernelspec": {
   "display_name": "Python 3 (ipykernel)",
   "language": "python",
   "name": "python3"
  },
  "language_info": {
   "codemirror_mode": {
    "name": "ipython",
    "version": 3
   },
   "file_extension": ".py",
   "mimetype": "text/x-python",
   "name": "python",
   "nbconvert_exporter": "python",
   "pygments_lexer": "ipython3",
   "version": "3.9.13"
  }
 },
 "nbformat": 4,
 "nbformat_minor": 5
}
